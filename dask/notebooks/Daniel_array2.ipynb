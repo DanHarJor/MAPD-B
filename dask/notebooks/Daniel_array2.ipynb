{
 "cells": [
  {
   "cell_type": "markdown",
   "id": "f4553bb9",
   "metadata": {},
   "source": [
    "# Custom CNN Distribution <a href =\"#contents\"><p style=\"text-align: right;\">return to contents</p></a>  \n",
    "<a id=\"Custom CNN Distribution\"></a>\n",
    "\n",
    "This section showcases how a machine learning model can be distributed using standard dask methods. The face and noface images are loaded into dask arrays. These are rechunked so there is approximatly 333 images in a chunk. With 4000 images this creates roughly 12 majour chunks to be processed on 6 workers. These are persisted and passed into the custom cnn distribution.\n",
    "\n",
    "### Algorithm Daskability \n",
    "An issue with distributed machine learning is that gradient descent cannot be co-ordinated seemlessly between the workers without a lot of slow interworker communication. This means the workers have to train on different data seperatly with the results being merged intermitantly. This implimentation splits the data evenly among the workers and combines the results after each worker has trained one \"epoch\" on the all data it has. When the workers have finished the weights are compared by the jupyter machine. The weights with the lowest loss are kept and the others are discarded. These weights are saved on each worker for another training.\n",
    "\n",
    "### Memory Between Worker Tasks\n",
    "The workers have 1/6 of the data saved on them but there are 12 chunks. The worker needs to have knowledge of the weights that were trained on the previous chunk. No solution was found to impliment this with python variables on dask. This was solved by saving the weights to a local pickle file. When a second chunk is loaded in the worker can read the old weights and carry on training from that point.\n",
    "\n",
    "### Tensorflow Non Compatability\n",
    "The CNN model variable could not be passed as a regular python variable to a function to be ran on a worker. This created an error. To solve this issue a g6.py file was created with the cnn variable pre built on it. This file is saved on each worker. Thus the cnn could be called in each worker with import g6, g6.cnn. Additional functions used by the worker are also placed on the g6 file. This reduces traffic on the cluster when running these functions on the workers.\n",
    "\n",
    "### Unmanaged Memory\n",
    "There were memory issues. The unmanged memory continuously increased at a high pace. Trimming with the malloc function only released a small proportion of the memory. The extensive use of the del function helped dramatically. An earlier version of the code used a dask data frame instead of dask arrays. This helped to keep the lables with the images. Althought the numpy array images only fitted into a 'cell' of the data frame if it was contained within list. This prevented dask from accuratly measuring the size of the data within the data frame. which contributed significantly to the unmanaged memory issue. This was resolved by switching to the dask array architecture.\n",
    "\n",
    "### Dask Options\n",
    "When it comes to distribution in dask there are many options. We implimented the code both in a dask dataframe and in dask arrays. We finally used the dask arrays. Although dask bags were going to be our next try if it were to fail. Dask also allows a very flexible framework with dask delayed. Many combinations of these options were thought of and a few were trialed to find the final working solution that performed adequatly. The images are loaded as dask arrays. The face images are stacked ontop of the noface images. Thus the lables are encoded in a dimension of the dask array. This is chunked and persisted across the workers. These chunks are "
   ]
  },
  {
   "cell_type": "code",
   "execution_count": 73,
   "id": "48b2cf42",
   "metadata": {},
   "outputs": [
    {
     "data": {
      "text/plain": [
       "{'tcp://10.67.22.108:36153': {'status': 'OK'},\n",
       " 'tcp://10.67.22.110:35555': {'status': 'OK'},\n",
       " 'tcp://10.67.22.138:41457': {'status': 'OK'},\n",
       " 'tcp://10.67.22.203:39515': {'status': 'OK'},\n",
       " 'tcp://10.67.22.67:38069': {'status': 'OK'},\n",
       " 'tcp://10.67.22.75:35645': {'status': 'OK'}}"
      ]
     },
     "execution_count": 73,
     "metadata": {},
     "output_type": "execute_result"
    }
   ],
   "source": [
    "#make the g6.py file to move some functions straight to the workers\n",
    "#This reduces traffic when running these functions on the workers\n",
    "# It was also the only way to get the cnn on the worker, as it couldn't be passed in a function.\n",
    "\n",
    "#remove old g6.py file\n",
    "try:\n",
    "    os.system('rm g6.py')\n",
    "    client.run(lambda dask_worker: os.remove(os.path.join(dask_worker.local_directory, \"g6.py\")))\n",
    "except: print(\"No g6.py file was on the workers or the current machine, adding it now\")\n",
    "#the code below is displayed as such for syntax highlighting. It is then made into a string and written to a file to be sent to the workers and used as a g6 package\n",
    "from tensorflow.keras import models, layers\n",
    "import tensorflow as tf\n",
    "import pickle\n",
    "def build_cnn():\n",
    "    cnn = models.Sequential([\n",
    "        layers.Conv2D(filters=30, kernel_size=(3,3), activation='relu', input_shape=(198,198,3)),\n",
    "        layers.MaxPooling2D((10,10)),\n",
    "        layers.Conv2D(filters=30, kernel_size=(3,3), activation='relu', input_shape=(198,198,3)),\n",
    "        layers.MaxPooling2D((10,10)),\n",
    "        #dense\n",
    "        layers.Flatten(),\n",
    "        layers.Dense(50, activation='relu'),\n",
    "        layers.Dense(2, activation='softmax')\n",
    "    ])\n",
    "    # compile\n",
    "    cnn.compile(optimizer='adam', loss='sparse_categorical_crossentropy', metrics=['accuracy'])\n",
    "    #summary\n",
    "    #print(cnn.summary())\n",
    "    return cnn\n",
    "\n",
    "cnn = build_cnn()\n",
    "\n",
    "#extracting the weights from a cnn\n",
    "def get_w(cnn):\n",
    "    layer_w = [lay.get_weights() for lay in cnn.layers]\n",
    "    return layer_w\n",
    "\n",
    "#changing the weights of the cnn\n",
    "def set_w(cnn,weights):\n",
    "    for lay,w in zip(cnn.layers, weights):\n",
    "        lay.set_weights(w)\n",
    "    return cnn\n",
    "\n",
    "\n",
    "#make a pickle file on the worker with the initial weights\n",
    "def weights_init():\n",
    "    weights = get_w(cnn)\n",
    "    f_weights = open(Path(path_weights), 'wb')\n",
    "    pickle.dump(weights, f_weights)                     \n",
    "    f_weights.close()\n",
    "    \n",
    "# once the weights have been trained. This brings them from the workers to this machine for validation\n",
    "def weights_get():\n",
    "    f_weights = open(path_weights,'rb')\n",
    "    weights = pickle.load(f_weights)\n",
    "    f_weights.close()\n",
    "    return weights\n",
    "#weights = list(client.run(weights_get).values())\n",
    "\n",
    "def loss_get():\n",
    "    f_loss = open(path_loss,'rb')\n",
    "    loss = pickle.load(f_loss)\n",
    "    f_loss.close()\n",
    "    return loss\n",
    "#weights = list(client.run(weights_get).values())\n",
    "\n",
    "def acc_get():\n",
    "    f_acc = open(path_acc,'rb')\n",
    "    acc = pickle.load(f_acc)\n",
    "    f_acc.close()\n",
    "    return acc\n",
    "#weights = list(client.run(weights_get).values())\n",
    "\n",
    "\n",
    "\n",
    "#now we have the best weights we need to write them to each worker so they can re-train from the best weights\n",
    "def weights_set_best(weights_best):\n",
    "    f_weights = open(path_weights,'wb')\n",
    "    pickle.dump(weights_best,f_weights)\n",
    "    f_weights.close()\n",
    "    del f_weights, weights_best\n",
    "    \n",
    "contents = \"\\\n",
    "from tensorflow.keras import models, layers\\n\\\n",
    "import tensorflow as tf\\n\\\n",
    "import pickle\\n\\\n",
    "path_weights='\"+str(path_weights)+\"'\\n\\\n",
    "def build_cnn():\\n\\\n",
    "    cnn = models.Sequential([\\n\\\n",
    "        layers.Conv2D(filters=30, kernel_size=(3,3), activation='relu', input_shape=(198,198,3)),\\n\\\n",
    "        layers.MaxPooling2D((10,10)),\\n\\\n",
    "        layers.Conv2D(filters=30, kernel_size=(3,3), activation='relu', input_shape=(198,198,3)),\\n\\\n",
    "        layers.MaxPooling2D((10,10)),\\n\\\n",
    "        #dense\\n\\\n",
    "        layers.Flatten(),\\n\\\n",
    "        layers.Dense(50, activation='relu'),\\n\\\n",
    "        layers.Dense(2, activation='softmax')\\n\\\n",
    "    ])\\n\\\n",
    "    # compile\\n\\\n",
    "    cnn.compile(optimizer='adam', loss='sparse_categorical_crossentropy', metrics=['accuracy'])\\n\\\n",
    "    #summary\\n\\\n",
    "    #print(cnn.summary())\\n\\\n",
    "    return cnn\\n\\\n",
    "\\n\\\n",
    "cnn = build_cnn()\\n\\\n",
    "\\n\\\n",
    "def get_w(cnn):\\n\\\n",
    "    layer_w = [lay.get_weights() for lay in cnn.layers]\\n\\\n",
    "    return layer_w\\n\\\n",
    "#changing the weights of the cnn\\n\\\n",
    "def set_w(cnn,weights):\\n\\\n",
    "    for lay,w in zip(cnn.layers, weights):\\n\\\n",
    "        lay.set_weights(w)\\n\\\n",
    "    return cnn\\n\\\n",
    "\\n\\\n",
    "#make a pickle file on the worker with the initial weights\\n\\\n",
    "def weights_init():\\n\\\n",
    "    weights = get_w(cnn)\\n\\\n",
    "    f_weights = open(path_weights, 'wb')\\n\\\n",
    "    pickle.dump(weights, f_weights)\\n\\\n",
    "    f_weights.close()\\n\\\n",
    "    \\n\\\n",
    "# once the weights have been trained. This brings them from the workers to this machine for validation\\n\\\n",
    "def weights_get():\\n\\\n",
    "    f_weights = open(path_weights,'rb')\\n\\\n",
    "    weights = pickle.load(f_weights)\\n\\\n",
    "    f_weights.close()\\n\\\n",
    "    return weights\\n\\\n",
    "#now we have the best weights we need to write them to each worker so they can re-train from the best weights\\n\\\n",
    "def weights_set_best(weights_best):\\n\\\n",
    "    f_weights = open(path_weights,'wb')\\n\\\n",
    "    pickle.dump(weights_best,f_weights)\\n\\\n",
    "    f_weights.close()\\n\\\n",
    "    del f_weights, weights_best\"\n",
    "\n",
    "#write the file this this machine on the same dir as this notebook\n",
    "f_py = open(\"g6.py\",'w')\n",
    "f_py.write(contents)\n",
    "f_py.close()\n",
    "\n",
    "#upload the file to the workers so it can be imported on the workers\n",
    "client.upload_file('g6.py')\n",
    "\n",
    "#use the following commmand to remove unwanted files that have been uploaded\n",
    "#client.run(lambda dask_worker: os.remove(os.path.join(dask_worker.local_directory, \"file.py\")))"
   ]
  },
  {
   "cell_type": "code",
   "execution_count": 74,
   "id": "ed8ca19a",
   "metadata": {},
   "outputs": [],
   "source": [
    "#You can checked it worked by initalising the weights\n",
    "# import g6\n",
    "# client.run(g6.weights_init)"
   ]
  },
  {
   "cell_type": "code",
   "execution_count": 12,
   "id": "8fa27fc5",
   "metadata": {},
   "outputs": [],
   "source": [
    "#define the function that will train on each partition. It will load weights, train, then write the improved weights over the same file\n",
    "@dask.delayed\n",
    "def train(chunk):\n",
    "    #convert the chunk to a form that will go into the cnn\n",
    "    face = chunk[:,0,:,:,:]\n",
    "    noface = chunk[:,1,:,:,:]\n",
    "    labelsF = np.ones(len(face))\n",
    "    labelsNF = np.zeros(len(noface))\n",
    "    \n",
    "    data = tf.convert_to_tensor(np.concatenate((face,noface), axis = 0))\n",
    "    labels = tf.convert_to_tensor(np.concatenate((labelsF,labelsNF)))\n",
    "    del face, labelsF, noface, labelsNF\n",
    "    #---------------------------------------------------\n",
    "    #get init/best weights from pickle file \n",
    "    f_weights = open(path_weights,'rb')\n",
    "    weights = pickle.load(f_weights)\n",
    "    f_weights.close()\n",
    "    del f_weights\n",
    "    cnn = g6.set_w(g6.cnn, weights)\n",
    "    fit = cnn.fit(data,labels, epochs = 1, shuffle=True)\n",
    "    loss = fit.history['loss'][-1]\n",
    "    acc = fit.history['accuracy'][-1]\n",
    "    \n",
    "    f_acc = open(path_acc, 'wb')\n",
    "    pickle.dump(acc, f_acc)  \n",
    "    f_acc.close()\n",
    "    \n",
    "    f_loss = open(path_loss, 'wb')\n",
    "    pickle.dump(loss, f_loss)  \n",
    "    f_loss.close()\n",
    "    \n",
    "    weights = g6.get_w(cnn)\n",
    "    f_weights = open(path_weights, 'wb')\n",
    "    pickle.dump(weights, f_weights)                     \n",
    "    f_weights.close()\n",
    "    del f_weights, weights, fit, data, labels, cnn\n",
    "\n",
    "#because this function returnes nothing, delayed was more convenient than dask.array.map_blocks()"
   ]
  },
  {
   "cell_type": "code",
   "execution_count": 13,
   "id": "97d084ff",
   "metadata": {},
   "outputs": [],
   "source": [
    "#once the weights have been trained, we need to evaluate the accuracy they provide\n",
    "# The workers find the acc of different chunks in parralell. The mean acc of the chunks is the overall accuracy.\n",
    "#The function loads the weights from the same place the trainer saved them.\n",
    "@dask.delayed\n",
    "def evaluate(chunk,weights):\n",
    "    #convert the chunk to a form that will go into the cnn\n",
    "    face = chunk[:,0,:,:,:]\n",
    "    noface = chunk[:,1,:,:,:]\n",
    "    labelsF = np.ones(len(face))\n",
    "    labelsNF = np.zeros(len(noface))\n",
    "    \n",
    "    data = tf.convert_to_tensor(np.concatenate((face,noface), axis = 0))\n",
    "    labels = tf.convert_to_tensor(np.concatenate((labelsF,labelsNF)))\n",
    "    del face, labelsF, noface, labelsNF\n",
    "    \n",
    "    cnn = g6.set_w(g6.cnn,weights)\n",
    "    loss, acc = cnn.evaluate(data,labels)\n",
    "    del cnn, loss\n",
    "    return acc\n"
   ]
  },
  {
   "cell_type": "code",
   "execution_count": 14,
   "id": "5007be6a",
   "metadata": {},
   "outputs": [],
   "source": [
    "from dask.array.image import imread\n",
    "#this will load the saved images from file into a dask array\n",
    "# it is stacked so the face images are on top of the noface images, this is the second axis\n",
    "def getData(vis=False):    \n",
    "    if vis:\n",
    "        face = imread(str(path_face)+'/*').persist()\n",
    "        noface = imread(str(path_noface)+'/*').persist()\n",
    "        data = [face,noface]\n",
    "        data = da.stack(data,axis=1)\n",
    "        data.visualize()\n",
    "        \n",
    "    else:    \n",
    "        face = imread(str(path_face)+'/*')\n",
    "        noface = imread(str(path_noface)+'/*')\n",
    "        data = [face,noface]\n",
    "        data = da.stack(data,axis=1)\n",
    "    #display(face)\n",
    "    #display(noface)    \n",
    "    #display(data)\n",
    "    del face, noface\n",
    "    return data\n",
    "\n",
    "#data = getData(vis=True)"
   ]
  },
  {
   "cell_type": "markdown",
   "id": "38223425",
   "metadata": {},
   "source": [
    "## Visualising Training "
   ]
  },
  {
   "cell_type": "code",
   "execution_count": 15,
   "id": "86065d30",
   "metadata": {},
   "outputs": [
    {
     "ename": "NameError",
     "evalue": "name 'delayeds' is not defined",
     "output_type": "error",
     "traceback": [
      "\u001b[0;31m---------------------------------------------------------------------------\u001b[0m",
      "\u001b[0;31mNameError\u001b[0m                                 Traceback (most recent call last)",
      "Input \u001b[0;32mIn [15]\u001b[0m, in \u001b[0;36m<cell line: 7>\u001b[0;34m()\u001b[0m\n\u001b[1;32m      5\u001b[0m delayed \u001b[38;5;241m=\u001b[39m [train(d) \u001b[38;5;28;01mfor\u001b[39;00m d \u001b[38;5;129;01min\u001b[39;00m data]\n\u001b[1;32m      6\u001b[0m delayed[\u001b[38;5;241m0\u001b[39m]\u001b[38;5;241m.\u001b[39mvisualize()\n\u001b[0;32m----> 7\u001b[0m display(\u001b[43mdelayeds\u001b[49m[\u001b[38;5;241m0\u001b[39m]\u001b[38;5;241m.\u001b[39mvisualize())\n\u001b[1;32m      8\u001b[0m display(delayeds[\u001b[38;5;241m1\u001b[39m]\u001b[38;5;241m.\u001b[39mvisualize())\n\u001b[1;32m      9\u001b[0m display(delayeds[\u001b[38;5;241m2\u001b[39m]\u001b[38;5;241m.\u001b[39mvisualize())\n",
      "\u001b[0;31mNameError\u001b[0m: name 'delayeds' is not defined"
     ]
    }
   ],
   "source": [
    "#Visualising the training of one chunk\n",
    "data=getData()\n",
    "data=data.rechunk(chunks=(int(500/2),2,198,198,3)).persist()\n",
    "data= data.to_delayed().ravel()\n",
    "delayed = [train(d) for d in data]\n",
    "delayed[0].visualize()\n",
    "display(delayeds[0].visualize())\n",
    "display(delayeds[1].visualize())\n",
    "display(delayeds[2].visualize())\n"
   ]
  },
  {
   "cell_type": "markdown",
   "id": "eaa674ac",
   "metadata": {},
   "source": [
    "## Visualising Validation"
   ]
  },
  {
   "cell_type": "code",
   "execution_count": 31,
   "id": "c80d649f",
   "metadata": {},
   "outputs": [
    {
     "data": {
      "image/png": "[encoded data removed]",
      "text/plain": [
       "<IPython.core.display.Image object>"
      ]
     },
     "metadata": {},
     "output_type": "display_data"
    },
    {
     "data": {
      "image/png": "[encoded data removed]",
      "text/plain": [
       "<IPython.core.display.Image object>"
      ]
     },
     "metadata": {},
     "output_type": "display_data"
    },
    {
     "data": {
      "image/png": "[encoded data removed]",
      "text/plain": [
       "<IPython.core.display.Image object>"
      ]
     },
     "metadata": {},
     "output_type": "display_data"
    }
   ],
   "source": [
    "#Visualising the training of one chunk\n",
    "data=getData()\n",
    "data=data.rechunk(chunks=(int(500/2),2,198,198,3)).persist()\n",
    "data=data.to_delayed().ravel()\n",
    "delayed=[evaluate(d) for d in data]\n",
    "display(delayed[0].visualize())\n",
    "display(delayed[1].visualize())\n",
    "display(delayed[2].visualize())"
   ]
  },
  {
   "cell_type": "code",
   "execution_count": 78,
   "id": "b5dbcfab",
   "metadata": {},
   "outputs": [],
   "source": [
    "import g6 #our package we defined earlier, has weight file saving functions and the cnn variable\n",
    "\n",
    "#The heart and soul\n",
    "#This ties it all together to distribute the training of the cnn. On n workers we train data/n on each worker. data/n is split into chunks manageable on the ram. A worker loads in a chunk of its data/n and trains the cnn on it for 1 epochs. Then it saves the weights, training accuracy and loss to a file. When it gets the next chunk it loads the last weights and trains on top of them again. After it has repeated this for all of its chunks, we have a set of weights that has been trained on data/n. This happens for all n workers, then we have n sets of weights.\n",
    "\n",
    "#These weights and their losses are loaded into the jupyter machine. The weights with the lowest loss is then saved into each worker for the next itteration of training.\n",
    "\n",
    "#Then we do the distributed evaluation for the final best weights. Each worker has its data_eval/n saved locally in chunks. It loads one chunk at a time and evaluated the cnn accuracy with the weights being tested. Each worker returnes a collection of accuracies for each chunk evaluated. Finally all chunk accuracies are returned to this jupyter machine. Here we find the mean to know the true accuracy of the weights over all of the data. \n",
    "\n",
    "#images per chunk allows us to control how much the workers have to handle. I found chunking by bytes to be too inaccurate.\n",
    "#frac_tr is the ratio of training to validation data. I suspect this should be kept low. Our goal is good performance analysis not a good cnn. With less training data it takes longer to train which amplifies performance gaps between systems. If both systems get 0.99 accuracy in 0.2 +- 0.02 seconds its difficult to say which is better. But if one is an inefficiant model it will show as each inefficiency adds up in a longer run. Also with a large validation set we get more accurate accuracy readings. This means our performance analysis for time to 0.95 accuracy is more reliable.    \n",
    "\n",
    "#get and split the data\n",
    "data = getData().persist()\n",
    "frac_tr = 0.8\n",
    "\n",
    "im_per_chunk=333\n",
    "\n",
    "m_t = int(len(data)*frac_tr)\n",
    "data_tr = data[:m_t].rechunk(chunks=(int(im_per_chunk/2),2,198,198,3)).persist()\n",
    "data_val = data[m_t:].rechunk(chunks=(int(im_per_chunk/2),2,198,198,3)).persist()\n",
    "wait(data_tr)\n",
    "\n",
    "del data, frac_tr, m_t\n",
    "\n",
    "\n",
    "def cnn_dist(data_tr, nitter=1, verbose=True):\n",
    "    try: \n",
    "        del weights_best, loss_best, acc_best\n",
    "    except: print('Another Run')\n",
    "    \n",
    "    data_tr = data_tr.to_delayed().ravel()\n",
    "    #initialising the weights stored locally on the workers\n",
    "    client.run(g6.weights_init)\n",
    "\n",
    "    for i in range(nitter):\n",
    "        if verbose: print('Training Itteration:',i)\n",
    "        #train on the distributed training dataframe, loading and saving the weights from a file\n",
    "        dd.compute(*[train(dtr) for dtr in data_tr])\n",
    "        #del data_tr\n",
    "        \n",
    "        if verbose: print('getting trained weights:',i)\n",
    "        #the weights have been trained. This brings them from the workers to this machine for validation\n",
    "        weights = list(client.run(g6.weights_get).values())\n",
    "        loss = list(client.run(loss_get).values())\n",
    "        acc = list(client.run(acc_get).values())\n",
    "        weights_best = weights[np.argmin(loss)]\n",
    "        loss_best = np.min(loss)\n",
    "        acc_best = np.max(acc)\n",
    "        \n",
    "        if verbose: print('The best training accuracy amongst the weights found is:',acc_best,'loss:',loss_best,'\\n Setting the corresponding best weights for itteration:',i)\n",
    "        client.run(g6.weights_set_best, weights_best)\n",
    "        #The best weights found have been set, ready for the next training itteration\n",
    "        \n",
    "        del weights, loss, acc\n",
    "    del data_tr\n",
    "    return loss_best, acc_best, weights_best\n",
    "\n",
    "\n"
   ]
  },
  {
   "cell_type": "code",
   "execution_count": 79,
   "id": "9c635cc0",
   "metadata": {},
   "outputs": [
    {
     "name": "stdout",
     "output_type": "stream",
     "text": [
      "Another Run\n",
      "Training Itteration: 0\n",
      "getting trained weights: 0\n",
      "The best training accuracy amongst the weights found is: 0.8042168617248535 loss: 0.7191608548164368 \n",
      " Setting the corresponding best weights for itteration: 0\n",
      "Training Itteration: 1\n",
      "getting trained weights: 1\n",
      "The best training accuracy amongst the weights found is: 0.8614457845687866 loss: 0.6232593655586243 \n",
      " Setting the corresponding best weights for itteration: 1\n",
      "Training Itteration: 2\n",
      "getting trained weights: 2\n",
      "The best training accuracy amongst the weights found is: 0.900602400302887 loss: 0.39477837085723877 \n",
      " Setting the corresponding best weights for itteration: 2\n",
      "Training Itteration: 3\n",
      "getting trained weights: 3\n",
      "The best training accuracy amongst the weights found is: 0.9186747074127197 loss: 0.24249596893787384 \n",
      " Setting the corresponding best weights for itteration: 3\n",
      "Training Itteration: 4\n",
      "getting trained weights: 4\n",
      "The best training accuracy amongst the weights found is: 0.9150943160057068 loss: 0.25020676851272583 \n",
      " Setting the corresponding best weights for itteration: 4\n"
     ]
    }
   ],
   "source": [
    "from dask.distributed import performance_report\n",
    "with performance_report(filename=\"cnn_dist_chunk333_itter5.html\"):\n",
    "    loss_best, acc_best, weights_best = cnn_dist(data_tr,nitter=5,verbose=True)"
   ]
  },
  {
   "cell_type": "code",
   "execution_count": 81,
   "id": "4c9a6367",
   "metadata": {},
   "outputs": [
    {
     "name": "stdout",
     "output_type": "stream",
     "text": [
      "The validation accuracy is: 0.8555988669395447\n"
     ]
    }
   ],
   "source": [
    "#Validation\n",
    "data_val = data_val.to_delayed().ravel()\n",
    "acc_val = np.mean(dd.compute(*[evaluate(dvl,weights_best) for dvl in data_val]))\n",
    "print('The validation accuracy is:',acc_val)\n"
   ]
  },
  {
   "cell_type": "code",
   "execution_count": 82,
   "id": "f2d14252",
   "metadata": {},
   "outputs": [
    {
     "data": {
      "text/plain": [
       "{'tcp://10.67.22.108:36153': 1,\n",
       " 'tcp://10.67.22.110:35555': 1,\n",
       " 'tcp://10.67.22.138:41457': 1,\n",
       " 'tcp://10.67.22.203:39515': 1,\n",
       " 'tcp://10.67.22.67:38069': 1,\n",
       " 'tcp://10.67.22.75:35645': 1}"
      ]
     },
     "execution_count": 82,
     "metadata": {},
     "output_type": "execute_result"
    },
    {
     "name": "stderr",
     "output_type": "stream",
     "text": [
      "distributed.client - ERROR - Failed to reconnect to scheduler after 30.00 seconds, closing client\n",
      "distributed.client - ERROR - Failed to reconnect to scheduler after 30.00 seconds, closing client\n",
      "distributed.client - ERROR - Failed to reconnect to scheduler after 30.00 seconds, closing client\n"
     ]
    }
   ],
   "source": [
    "# run this cell to release the ram that the workers are hoarding. \n",
    "# only to be used for debugging memory leeks, there is a fancy way for automatic trimming\n",
    "import ctypes\n",
    "\n",
    "def trim_memory() -> int:\n",
    "    libc = ctypes.CDLL(\"libc.so.6\")\n",
    "    return libc.malloc_trim(0)\n",
    "\n",
    "client.run(trim_memory)"
   ]
  }
 ],
 "metadata": {
  "kernelspec": {
   "display_name": "Python 3 (ipykernel)",
   "language": "python",
   "name": "python3"
  },
  "language_info": {
   "codemirror_mode": {
    "name": "ipython",
    "version": 3
   },
   "file_extension": ".py",
   "mimetype": "text/x-python",
   "name": "python",
   "nbconvert_exporter": "python",
   "pygments_lexer": "ipython3",
   "version": "3.9.5"
  }
 },
 "nbformat": 4,
 "nbformat_minor": 5
}
