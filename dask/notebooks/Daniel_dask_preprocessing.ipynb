{
 "cells": [
  {
   "cell_type": "markdown",
   "id": "20756530",
   "metadata": {},
   "source": [
    "## First Look at Distrubiting the Data\n",
    "\n",
    "On the docker set up by jacopo the dask-scheduler and dask-worker commands have already been depoyed. The machines know where eachother are. To have control over them we just need to use a client to connect to the scheduler. "
   ]
  },
  {
   "cell_type": "code",
   "execution_count": 1,
   "id": "2361d7ec",
   "metadata": {},
   "outputs": [
    {
     "name": "stdout",
     "output_type": "stream",
     "text": [
      "Requirement already satisfied: scikit-image in /opt/conda/lib/python3.9/site-packages (0.19.3)\n",
      "Requirement already satisfied: imageio>=2.4.1 in /opt/conda/lib/python3.9/site-packages (from scikit-image) (2.19.3)\n",
      "Requirement already satisfied: tifffile>=2019.7.26 in /opt/conda/lib/python3.9/site-packages (from scikit-image) (2022.5.4)\n",
      "Requirement already satisfied: pillow!=7.1.0,!=7.1.1,!=8.3.0,>=6.1.0 in /opt/conda/lib/python3.9/site-packages (from scikit-image) (9.0.1)\n",
      "Requirement already satisfied: packaging>=20.0 in /opt/conda/lib/python3.9/site-packages (from scikit-image) (21.3)\n",
      "Requirement already satisfied: numpy>=1.17.0 in /opt/conda/lib/python3.9/site-packages (from scikit-image) (1.21.5)\n",
      "Requirement already satisfied: networkx>=2.2 in /opt/conda/lib/python3.9/site-packages (from scikit-image) (2.8.4)\n",
      "Requirement already satisfied: PyWavelets>=1.1.1 in /opt/conda/lib/python3.9/site-packages (from scikit-image) (1.3.0)\n",
      "Requirement already satisfied: scipy>=1.4.1 in /opt/conda/lib/python3.9/site-packages (from scikit-image) (1.7.3)\n",
      "Requirement already satisfied: pyparsing!=3.0.5,>=2.0.2 in /opt/conda/lib/python3.9/site-packages (from packaging>=20.0->scikit-image) (3.0.4)\n",
      "\u001b[33mWARNING: Running pip as the 'root' user can result in broken permissions and conflicting behaviour with the system package manager. It is recommended to use a virtual environment instead: https://pip.pypa.io/warnings/venv\u001b[0m\n",
      "Requirement already satisfied: dask-image in /opt/conda/lib/python3.9/site-packages (2021.12.0)\n",
      "Requirement already satisfied: pims>=0.4.1 in /opt/conda/lib/python3.9/site-packages (from dask-image) (0.6.1)\n",
      "Requirement already satisfied: numpy>=1.11.3 in /opt/conda/lib/python3.9/site-packages (from dask-image) (1.21.5)\n",
      "Requirement already satisfied: scipy>=0.19.1 in /opt/conda/lib/python3.9/site-packages (from dask-image) (1.7.3)\n",
      "Requirement already satisfied: dask[array]>=0.16.1 in /opt/conda/lib/python3.9/site-packages (from dask-image) (2022.2.1)\n",
      "Requirement already satisfied: toolz>=0.8.2 in /opt/conda/lib/python3.9/site-packages (from dask[array]>=0.16.1->dask-image) (0.11.2)\n",
      "Requirement already satisfied: partd>=0.3.10 in /opt/conda/lib/python3.9/site-packages (from dask[array]>=0.16.1->dask-image) (1.2.0)\n",
      "Requirement already satisfied: fsspec>=0.6.0 in /opt/conda/lib/python3.9/site-packages (from dask[array]>=0.16.1->dask-image) (2022.2.0)\n",
      "Requirement already satisfied: pyyaml>=5.3.1 in /opt/conda/lib/python3.9/site-packages (from dask[array]>=0.16.1->dask-image) (6.0)\n",
      "Requirement already satisfied: cloudpickle>=1.1.1 in /opt/conda/lib/python3.9/site-packages (from dask[array]>=0.16.1->dask-image) (2.0.0)\n",
      "Requirement already satisfied: packaging>=20.0 in /opt/conda/lib/python3.9/site-packages (from dask[array]>=0.16.1->dask-image) (21.3)\n",
      "Requirement already satisfied: pyparsing!=3.0.5,>=2.0.2 in /opt/conda/lib/python3.9/site-packages (from packaging>=20.0->dask[array]>=0.16.1->dask-image) (3.0.4)\n",
      "Requirement already satisfied: locket in /opt/conda/lib/python3.9/site-packages (from partd>=0.3.10->dask[array]>=0.16.1->dask-image) (0.2.1)\n",
      "Requirement already satisfied: imageio in /opt/conda/lib/python3.9/site-packages (from pims>=0.4.1->dask-image) (2.19.3)\n",
      "Requirement already satisfied: slicerator>=0.9.8 in /opt/conda/lib/python3.9/site-packages (from pims>=0.4.1->dask-image) (1.1.0)\n",
      "Requirement already satisfied: pillow>=8.3.2 in /opt/conda/lib/python3.9/site-packages (from imageio->pims>=0.4.1->dask-image) (9.0.1)\n",
      "\u001b[33mWARNING: Running pip as the 'root' user can result in broken permissions and conflicting behaviour with the system package manager. It is recommended to use a virtual environment instead: https://pip.pypa.io/warnings/venv\u001b[0m\n"
     ]
    }
   ],
   "source": [
    "!pip install scikit-image\n",
    "!pip install dask-image"
   ]
  },
  {
   "cell_type": "code",
   "execution_count": 2,
   "id": "26c2ed73",
   "metadata": {},
   "outputs": [],
   "source": [
    "import matplotlib.pyplot as plt\n",
    "import numpy as np\n",
    "import dask.dataframe as dd\n",
    "from pathlib import Path\n",
    "from dask.distributed import wait\n",
    "\n",
    "\n",
    "from dask_image.imread import imread\n",
    "from skimage import io, transform\n",
    "import dask.array as da\n",
    "import matplotlib.pyplot as plt\n",
    "import dask.delayed\n",
    "\n",
    "from tensorflow.keras import models, layers\n",
    "\n",
    "import pandas as pd\n",
    "\n",
    "import re\n",
    "\n",
    "import time\n",
    "import timeit"
   ]
  },
  {
   "cell_type": "code",
   "execution_count": 3,
   "id": "43ab4f31",
   "metadata": {},
   "outputs": [
    {
     "data": {
      "text/html": [
       "<div>\n",
       "    <div style=\"width: 24px; height: 24px; background-color: #e1e1e1; border: 3px solid #9D9D9D; border-radius: 5px; position: absolute;\"> </div>\n",
       "    <div style=\"margin-left: 48px;\">\n",
       "        <h3 style=\"margin-bottom: 0px;\">Client</h3>\n",
       "        <p style=\"color: #9D9D9D; margin-bottom: 0px;\">Client-b2435401-f785-11ec-8046-a1605af724d9</p>\n",
       "        <table style=\"width: 100%; text-align: left;\">\n",
       "\n",
       "        <tr>\n",
       "        \n",
       "            <td style=\"text-align: left;\"><strong>Connection method:</strong> Direct</td>\n",
       "            <td style=\"text-align: left;\"></td>\n",
       "        \n",
       "        </tr>\n",
       "\n",
       "        \n",
       "            <tr>\n",
       "                <td style=\"text-align: left;\">\n",
       "                    <strong>Dashboard: </strong> <a href=\"http://dask-scheduler:8787/status\" target=\"_blank\">http://dask-scheduler:8787/status</a>\n",
       "                </td>\n",
       "                <td style=\"text-align: left;\"></td>\n",
       "            </tr>\n",
       "        \n",
       "\n",
       "        </table>\n",
       "\n",
       "        \n",
       "            <details>\n",
       "            <summary style=\"margin-bottom: 20px;\"><h3 style=\"display: inline;\">Scheduler Info</h3></summary>\n",
       "            <div style=\"\">\n",
       "    <div>\n",
       "        <div style=\"width: 24px; height: 24px; background-color: #FFF7E5; border: 3px solid #FF6132; border-radius: 5px; position: absolute;\"> </div>\n",
       "        <div style=\"margin-left: 48px;\">\n",
       "            <h3 style=\"margin-bottom: 0px;\">Scheduler</h3>\n",
       "            <p style=\"color: #9D9D9D; margin-bottom: 0px;\">Scheduler-d6b87739-07d6-43f2-b409-edfa84401621</p>\n",
       "            <table style=\"width: 100%; text-align: left;\">\n",
       "                <tr>\n",
       "                    <td style=\"text-align: left;\">\n",
       "                        <strong>Comm:</strong> tcp://172.31.0.2:8786\n",
       "                    </td>\n",
       "                    <td style=\"text-align: left;\">\n",
       "                        <strong>Workers:</strong> 6\n",
       "                    </td>\n",
       "                </tr>\n",
       "                <tr>\n",
       "                    <td style=\"text-align: left;\">\n",
       "                        <strong>Dashboard:</strong> <a href=\"http://172.31.0.2:8787/status\" target=\"_blank\">http://172.31.0.2:8787/status</a>\n",
       "                    </td>\n",
       "                    <td style=\"text-align: left;\">\n",
       "                        <strong>Total threads:</strong> 6\n",
       "                    </td>\n",
       "                </tr>\n",
       "                <tr>\n",
       "                    <td style=\"text-align: left;\">\n",
       "                        <strong>Started:</strong> 10 minutes ago\n",
       "                    </td>\n",
       "                    <td style=\"text-align: left;\">\n",
       "                        <strong>Total memory:</strong> 11.62 GiB\n",
       "                    </td>\n",
       "                </tr>\n",
       "            </table>\n",
       "        </div>\n",
       "    </div>\n",
       "\n",
       "    <details style=\"margin-left: 48px;\">\n",
       "        <summary style=\"margin-bottom: 20px;\">\n",
       "            <h3 style=\"display: inline;\">Workers</h3>\n",
       "        </summary>\n",
       "\n",
       "        \n",
       "        <div style=\"margin-bottom: 20px;\">\n",
       "            <div style=\"width: 24px; height: 24px; background-color: #DBF5FF; border: 3px solid #4CC9FF; border-radius: 5px; position: absolute;\"> </div>\n",
       "            <div style=\"margin-left: 48px;\">\n",
       "            <details>\n",
       "                <summary>\n",
       "                    <h4 style=\"margin-bottom: 0px; display: inline;\">Worker: tcp://172.31.0.3:33331</h4>\n",
       "                </summary>\n",
       "                <table style=\"width: 100%; text-align: left;\">\n",
       "                    <tr>\n",
       "                        <td style=\"text-align: left;\">\n",
       "                            <strong>Comm: </strong> tcp://172.31.0.3:33331\n",
       "                        </td>\n",
       "                        <td style=\"text-align: left;\">\n",
       "                            <strong>Total threads: </strong> 1\n",
       "                        </td>\n",
       "                    </tr>\n",
       "                    <tr>\n",
       "                        <td style=\"text-align: left;\">\n",
       "                            <strong>Dashboard: </strong> <a href=\"http://172.31.0.3:39253/status\" target=\"_blank\">http://172.31.0.3:39253/status</a>\n",
       "                        </td>\n",
       "                        <td style=\"text-align: left;\">\n",
       "                            <strong>Memory: </strong> 1.94 GiB\n",
       "                        </td>\n",
       "                    </tr>\n",
       "                    <tr>\n",
       "                        <td style=\"text-align: left;\">\n",
       "                            <strong>Nanny: </strong> tcp://172.31.0.3:33989\n",
       "                        </td>\n",
       "                        <td style=\"text-align: left;\"></td>\n",
       "                    </tr>\n",
       "                    <tr>\n",
       "                        <td colspan=\"2\" style=\"text-align: left;\">\n",
       "                            <strong>Local directory: </strong> /opt/workspace/dask-worker-space/dask-worker-space/worker-in7gjh3e\n",
       "                        </td>\n",
       "                    </tr>\n",
       "\n",
       "                    \n",
       "\n",
       "                    \n",
       "                    <tr>\n",
       "                        <td style=\"text-align: left;\">\n",
       "                            <strong>Tasks executing: </strong> 0\n",
       "                        </td>\n",
       "                        <td style=\"text-align: left;\">\n",
       "                            <strong>Tasks in memory: </strong> 0\n",
       "                        </td>\n",
       "                    </tr>\n",
       "                    <tr>\n",
       "                        <td style=\"text-align: left;\">\n",
       "                            <strong>Tasks ready: </strong> 0\n",
       "                        </td>\n",
       "                        <td style=\"text-align: left;\">\n",
       "                            <strong>Tasks in flight: </strong>0\n",
       "                        </td>\n",
       "                    </tr>\n",
       "                    <tr>\n",
       "                        <td style=\"text-align: left;\">\n",
       "                            <strong>CPU usage:</strong> 4.0%\n",
       "                        </td>\n",
       "                        <td style=\"text-align: left;\">\n",
       "                            <strong>Last seen: </strong> Just now\n",
       "                        </td>\n",
       "                    </tr>\n",
       "                    <tr>\n",
       "                        <td style=\"text-align: left;\">\n",
       "                            <strong>Memory usage: </strong> 139.86 MiB\n",
       "                        </td>\n",
       "                        <td style=\"text-align: left;\">\n",
       "                            <strong>Spilled bytes: </strong> 0 B\n",
       "                        </td>\n",
       "                    </tr>\n",
       "                    <tr>\n",
       "                        <td style=\"text-align: left;\">\n",
       "                            <strong>Read bytes: </strong> 285.88249268117374 B\n",
       "                        </td>\n",
       "                        <td style=\"text-align: left;\">\n",
       "                            <strong>Write bytes: </strong> 0.97 kiB\n",
       "                        </td>\n",
       "                    </tr>\n",
       "                    \n",
       "\n",
       "                </table>\n",
       "            </details>\n",
       "            </div>\n",
       "        </div>\n",
       "        \n",
       "        <div style=\"margin-bottom: 20px;\">\n",
       "            <div style=\"width: 24px; height: 24px; background-color: #DBF5FF; border: 3px solid #4CC9FF; border-radius: 5px; position: absolute;\"> </div>\n",
       "            <div style=\"margin-left: 48px;\">\n",
       "            <details>\n",
       "                <summary>\n",
       "                    <h4 style=\"margin-bottom: 0px; display: inline;\">Worker: tcp://172.31.0.5:42515</h4>\n",
       "                </summary>\n",
       "                <table style=\"width: 100%; text-align: left;\">\n",
       "                    <tr>\n",
       "                        <td style=\"text-align: left;\">\n",
       "                            <strong>Comm: </strong> tcp://172.31.0.5:42515\n",
       "                        </td>\n",
       "                        <td style=\"text-align: left;\">\n",
       "                            <strong>Total threads: </strong> 1\n",
       "                        </td>\n",
       "                    </tr>\n",
       "                    <tr>\n",
       "                        <td style=\"text-align: left;\">\n",
       "                            <strong>Dashboard: </strong> <a href=\"http://172.31.0.5:46811/status\" target=\"_blank\">http://172.31.0.5:46811/status</a>\n",
       "                        </td>\n",
       "                        <td style=\"text-align: left;\">\n",
       "                            <strong>Memory: </strong> 1.94 GiB\n",
       "                        </td>\n",
       "                    </tr>\n",
       "                    <tr>\n",
       "                        <td style=\"text-align: left;\">\n",
       "                            <strong>Nanny: </strong> tcp://172.31.0.5:44609\n",
       "                        </td>\n",
       "                        <td style=\"text-align: left;\"></td>\n",
       "                    </tr>\n",
       "                    <tr>\n",
       "                        <td colspan=\"2\" style=\"text-align: left;\">\n",
       "                            <strong>Local directory: </strong> /opt/workspace/dask-worker-space/dask-worker-space/worker-kxmy2taw\n",
       "                        </td>\n",
       "                    </tr>\n",
       "\n",
       "                    \n",
       "\n",
       "                    \n",
       "                    <tr>\n",
       "                        <td style=\"text-align: left;\">\n",
       "                            <strong>Tasks executing: </strong> 0\n",
       "                        </td>\n",
       "                        <td style=\"text-align: left;\">\n",
       "                            <strong>Tasks in memory: </strong> 0\n",
       "                        </td>\n",
       "                    </tr>\n",
       "                    <tr>\n",
       "                        <td style=\"text-align: left;\">\n",
       "                            <strong>Tasks ready: </strong> 0\n",
       "                        </td>\n",
       "                        <td style=\"text-align: left;\">\n",
       "                            <strong>Tasks in flight: </strong>0\n",
       "                        </td>\n",
       "                    </tr>\n",
       "                    <tr>\n",
       "                        <td style=\"text-align: left;\">\n",
       "                            <strong>CPU usage:</strong> 4.0%\n",
       "                        </td>\n",
       "                        <td style=\"text-align: left;\">\n",
       "                            <strong>Last seen: </strong> Just now\n",
       "                        </td>\n",
       "                    </tr>\n",
       "                    <tr>\n",
       "                        <td style=\"text-align: left;\">\n",
       "                            <strong>Memory usage: </strong> 141.77 MiB\n",
       "                        </td>\n",
       "                        <td style=\"text-align: left;\">\n",
       "                            <strong>Spilled bytes: </strong> 0 B\n",
       "                        </td>\n",
       "                    </tr>\n",
       "                    <tr>\n",
       "                        <td style=\"text-align: left;\">\n",
       "                            <strong>Read bytes: </strong> 285.7516035207661 B\n",
       "                        </td>\n",
       "                        <td style=\"text-align: left;\">\n",
       "                            <strong>Write bytes: </strong> 0.97 kiB\n",
       "                        </td>\n",
       "                    </tr>\n",
       "                    \n",
       "\n",
       "                </table>\n",
       "            </details>\n",
       "            </div>\n",
       "        </div>\n",
       "        \n",
       "        <div style=\"margin-bottom: 20px;\">\n",
       "            <div style=\"width: 24px; height: 24px; background-color: #DBF5FF; border: 3px solid #4CC9FF; border-radius: 5px; position: absolute;\"> </div>\n",
       "            <div style=\"margin-left: 48px;\">\n",
       "            <details>\n",
       "                <summary>\n",
       "                    <h4 style=\"margin-bottom: 0px; display: inline;\">Worker: tcp://172.31.0.6:42061</h4>\n",
       "                </summary>\n",
       "                <table style=\"width: 100%; text-align: left;\">\n",
       "                    <tr>\n",
       "                        <td style=\"text-align: left;\">\n",
       "                            <strong>Comm: </strong> tcp://172.31.0.6:42061\n",
       "                        </td>\n",
       "                        <td style=\"text-align: left;\">\n",
       "                            <strong>Total threads: </strong> 1\n",
       "                        </td>\n",
       "                    </tr>\n",
       "                    <tr>\n",
       "                        <td style=\"text-align: left;\">\n",
       "                            <strong>Dashboard: </strong> <a href=\"http://172.31.0.6:39495/status\" target=\"_blank\">http://172.31.0.6:39495/status</a>\n",
       "                        </td>\n",
       "                        <td style=\"text-align: left;\">\n",
       "                            <strong>Memory: </strong> 1.94 GiB\n",
       "                        </td>\n",
       "                    </tr>\n",
       "                    <tr>\n",
       "                        <td style=\"text-align: left;\">\n",
       "                            <strong>Nanny: </strong> tcp://172.31.0.6:44137\n",
       "                        </td>\n",
       "                        <td style=\"text-align: left;\"></td>\n",
       "                    </tr>\n",
       "                    <tr>\n",
       "                        <td colspan=\"2\" style=\"text-align: left;\">\n",
       "                            <strong>Local directory: </strong> /opt/workspace/dask-worker-space/dask-worker-space/worker-bwdrncbw\n",
       "                        </td>\n",
       "                    </tr>\n",
       "\n",
       "                    \n",
       "\n",
       "                    \n",
       "                    <tr>\n",
       "                        <td style=\"text-align: left;\">\n",
       "                            <strong>Tasks executing: </strong> 0\n",
       "                        </td>\n",
       "                        <td style=\"text-align: left;\">\n",
       "                            <strong>Tasks in memory: </strong> 0\n",
       "                        </td>\n",
       "                    </tr>\n",
       "                    <tr>\n",
       "                        <td style=\"text-align: left;\">\n",
       "                            <strong>Tasks ready: </strong> 0\n",
       "                        </td>\n",
       "                        <td style=\"text-align: left;\">\n",
       "                            <strong>Tasks in flight: </strong>0\n",
       "                        </td>\n",
       "                    </tr>\n",
       "                    <tr>\n",
       "                        <td style=\"text-align: left;\">\n",
       "                            <strong>CPU usage:</strong> 4.0%\n",
       "                        </td>\n",
       "                        <td style=\"text-align: left;\">\n",
       "                            <strong>Last seen: </strong> Just now\n",
       "                        </td>\n",
       "                    </tr>\n",
       "                    <tr>\n",
       "                        <td style=\"text-align: left;\">\n",
       "                            <strong>Memory usage: </strong> 142.34 MiB\n",
       "                        </td>\n",
       "                        <td style=\"text-align: left;\">\n",
       "                            <strong>Spilled bytes: </strong> 0 B\n",
       "                        </td>\n",
       "                    </tr>\n",
       "                    <tr>\n",
       "                        <td style=\"text-align: left;\">\n",
       "                            <strong>Read bytes: </strong> 285.7046434083417 B\n",
       "                        </td>\n",
       "                        <td style=\"text-align: left;\">\n",
       "                            <strong>Write bytes: </strong> 0.97 kiB\n",
       "                        </td>\n",
       "                    </tr>\n",
       "                    \n",
       "\n",
       "                </table>\n",
       "            </details>\n",
       "            </div>\n",
       "        </div>\n",
       "        \n",
       "        <div style=\"margin-bottom: 20px;\">\n",
       "            <div style=\"width: 24px; height: 24px; background-color: #DBF5FF; border: 3px solid #4CC9FF; border-radius: 5px; position: absolute;\"> </div>\n",
       "            <div style=\"margin-left: 48px;\">\n",
       "            <details>\n",
       "                <summary>\n",
       "                    <h4 style=\"margin-bottom: 0px; display: inline;\">Worker: tcp://172.31.0.7:46621</h4>\n",
       "                </summary>\n",
       "                <table style=\"width: 100%; text-align: left;\">\n",
       "                    <tr>\n",
       "                        <td style=\"text-align: left;\">\n",
       "                            <strong>Comm: </strong> tcp://172.31.0.7:46621\n",
       "                        </td>\n",
       "                        <td style=\"text-align: left;\">\n",
       "                            <strong>Total threads: </strong> 1\n",
       "                        </td>\n",
       "                    </tr>\n",
       "                    <tr>\n",
       "                        <td style=\"text-align: left;\">\n",
       "                            <strong>Dashboard: </strong> <a href=\"http://172.31.0.7:43169/status\" target=\"_blank\">http://172.31.0.7:43169/status</a>\n",
       "                        </td>\n",
       "                        <td style=\"text-align: left;\">\n",
       "                            <strong>Memory: </strong> 1.94 GiB\n",
       "                        </td>\n",
       "                    </tr>\n",
       "                    <tr>\n",
       "                        <td style=\"text-align: left;\">\n",
       "                            <strong>Nanny: </strong> tcp://172.31.0.7:43535\n",
       "                        </td>\n",
       "                        <td style=\"text-align: left;\"></td>\n",
       "                    </tr>\n",
       "                    <tr>\n",
       "                        <td colspan=\"2\" style=\"text-align: left;\">\n",
       "                            <strong>Local directory: </strong> /opt/workspace/dask-worker-space/dask-worker-space/worker-ubok3trf\n",
       "                        </td>\n",
       "                    </tr>\n",
       "\n",
       "                    \n",
       "\n",
       "                    \n",
       "                    <tr>\n",
       "                        <td style=\"text-align: left;\">\n",
       "                            <strong>Tasks executing: </strong> 0\n",
       "                        </td>\n",
       "                        <td style=\"text-align: left;\">\n",
       "                            <strong>Tasks in memory: </strong> 0\n",
       "                        </td>\n",
       "                    </tr>\n",
       "                    <tr>\n",
       "                        <td style=\"text-align: left;\">\n",
       "                            <strong>Tasks ready: </strong> 0\n",
       "                        </td>\n",
       "                        <td style=\"text-align: left;\">\n",
       "                            <strong>Tasks in flight: </strong>0\n",
       "                        </td>\n",
       "                    </tr>\n",
       "                    <tr>\n",
       "                        <td style=\"text-align: left;\">\n",
       "                            <strong>CPU usage:</strong> 4.0%\n",
       "                        </td>\n",
       "                        <td style=\"text-align: left;\">\n",
       "                            <strong>Last seen: </strong> Just now\n",
       "                        </td>\n",
       "                    </tr>\n",
       "                    <tr>\n",
       "                        <td style=\"text-align: left;\">\n",
       "                            <strong>Memory usage: </strong> 142.17 MiB\n",
       "                        </td>\n",
       "                        <td style=\"text-align: left;\">\n",
       "                            <strong>Spilled bytes: </strong> 0 B\n",
       "                        </td>\n",
       "                    </tr>\n",
       "                    <tr>\n",
       "                        <td style=\"text-align: left;\">\n",
       "                            <strong>Read bytes: </strong> 0.0 B\n",
       "                        </td>\n",
       "                        <td style=\"text-align: left;\">\n",
       "                            <strong>Write bytes: </strong> 861.3788455889903 B\n",
       "                        </td>\n",
       "                    </tr>\n",
       "                    \n",
       "\n",
       "                </table>\n",
       "            </details>\n",
       "            </div>\n",
       "        </div>\n",
       "        \n",
       "        <div style=\"margin-bottom: 20px;\">\n",
       "            <div style=\"width: 24px; height: 24px; background-color: #DBF5FF; border: 3px solid #4CC9FF; border-radius: 5px; position: absolute;\"> </div>\n",
       "            <div style=\"margin-left: 48px;\">\n",
       "            <details>\n",
       "                <summary>\n",
       "                    <h4 style=\"margin-bottom: 0px; display: inline;\">Worker: tcp://172.31.0.8:36417</h4>\n",
       "                </summary>\n",
       "                <table style=\"width: 100%; text-align: left;\">\n",
       "                    <tr>\n",
       "                        <td style=\"text-align: left;\">\n",
       "                            <strong>Comm: </strong> tcp://172.31.0.8:36417\n",
       "                        </td>\n",
       "                        <td style=\"text-align: left;\">\n",
       "                            <strong>Total threads: </strong> 1\n",
       "                        </td>\n",
       "                    </tr>\n",
       "                    <tr>\n",
       "                        <td style=\"text-align: left;\">\n",
       "                            <strong>Dashboard: </strong> <a href=\"http://172.31.0.8:44001/status\" target=\"_blank\">http://172.31.0.8:44001/status</a>\n",
       "                        </td>\n",
       "                        <td style=\"text-align: left;\">\n",
       "                            <strong>Memory: </strong> 1.94 GiB\n",
       "                        </td>\n",
       "                    </tr>\n",
       "                    <tr>\n",
       "                        <td style=\"text-align: left;\">\n",
       "                            <strong>Nanny: </strong> tcp://172.31.0.8:43327\n",
       "                        </td>\n",
       "                        <td style=\"text-align: left;\"></td>\n",
       "                    </tr>\n",
       "                    <tr>\n",
       "                        <td colspan=\"2\" style=\"text-align: left;\">\n",
       "                            <strong>Local directory: </strong> /opt/workspace/dask-worker-space/dask-worker-space/worker-9c1m091z\n",
       "                        </td>\n",
       "                    </tr>\n",
       "\n",
       "                    \n",
       "\n",
       "                    \n",
       "                    <tr>\n",
       "                        <td style=\"text-align: left;\">\n",
       "                            <strong>Tasks executing: </strong> 0\n",
       "                        </td>\n",
       "                        <td style=\"text-align: left;\">\n",
       "                            <strong>Tasks in memory: </strong> 0\n",
       "                        </td>\n",
       "                    </tr>\n",
       "                    <tr>\n",
       "                        <td style=\"text-align: left;\">\n",
       "                            <strong>Tasks ready: </strong> 0\n",
       "                        </td>\n",
       "                        <td style=\"text-align: left;\">\n",
       "                            <strong>Tasks in flight: </strong>0\n",
       "                        </td>\n",
       "                    </tr>\n",
       "                    <tr>\n",
       "                        <td style=\"text-align: left;\">\n",
       "                            <strong>CPU usage:</strong> 4.0%\n",
       "                        </td>\n",
       "                        <td style=\"text-align: left;\">\n",
       "                            <strong>Last seen: </strong> Just now\n",
       "                        </td>\n",
       "                    </tr>\n",
       "                    <tr>\n",
       "                        <td style=\"text-align: left;\">\n",
       "                            <strong>Memory usage: </strong> 140.97 MiB\n",
       "                        </td>\n",
       "                        <td style=\"text-align: left;\">\n",
       "                            <strong>Spilled bytes: </strong> 0 B\n",
       "                        </td>\n",
       "                    </tr>\n",
       "                    <tr>\n",
       "                        <td style=\"text-align: left;\">\n",
       "                            <strong>Read bytes: </strong> 286.19269184154524 B\n",
       "                        </td>\n",
       "                        <td style=\"text-align: left;\">\n",
       "                            <strong>Write bytes: </strong> 0.97 kiB\n",
       "                        </td>\n",
       "                    </tr>\n",
       "                    \n",
       "\n",
       "                </table>\n",
       "            </details>\n",
       "            </div>\n",
       "        </div>\n",
       "        \n",
       "        <div style=\"margin-bottom: 20px;\">\n",
       "            <div style=\"width: 24px; height: 24px; background-color: #DBF5FF; border: 3px solid #4CC9FF; border-radius: 5px; position: absolute;\"> </div>\n",
       "            <div style=\"margin-left: 48px;\">\n",
       "            <details>\n",
       "                <summary>\n",
       "                    <h4 style=\"margin-bottom: 0px; display: inline;\">Worker: tcp://172.31.0.9:43615</h4>\n",
       "                </summary>\n",
       "                <table style=\"width: 100%; text-align: left;\">\n",
       "                    <tr>\n",
       "                        <td style=\"text-align: left;\">\n",
       "                            <strong>Comm: </strong> tcp://172.31.0.9:43615\n",
       "                        </td>\n",
       "                        <td style=\"text-align: left;\">\n",
       "                            <strong>Total threads: </strong> 1\n",
       "                        </td>\n",
       "                    </tr>\n",
       "                    <tr>\n",
       "                        <td style=\"text-align: left;\">\n",
       "                            <strong>Dashboard: </strong> <a href=\"http://172.31.0.9:44877/status\" target=\"_blank\">http://172.31.0.9:44877/status</a>\n",
       "                        </td>\n",
       "                        <td style=\"text-align: left;\">\n",
       "                            <strong>Memory: </strong> 1.94 GiB\n",
       "                        </td>\n",
       "                    </tr>\n",
       "                    <tr>\n",
       "                        <td style=\"text-align: left;\">\n",
       "                            <strong>Nanny: </strong> tcp://172.31.0.9:37331\n",
       "                        </td>\n",
       "                        <td style=\"text-align: left;\"></td>\n",
       "                    </tr>\n",
       "                    <tr>\n",
       "                        <td colspan=\"2\" style=\"text-align: left;\">\n",
       "                            <strong>Local directory: </strong> /opt/workspace/dask-worker-space/dask-worker-space/worker-66joj7lh\n",
       "                        </td>\n",
       "                    </tr>\n",
       "\n",
       "                    \n",
       "\n",
       "                    \n",
       "                    <tr>\n",
       "                        <td style=\"text-align: left;\">\n",
       "                            <strong>Tasks executing: </strong> 0\n",
       "                        </td>\n",
       "                        <td style=\"text-align: left;\">\n",
       "                            <strong>Tasks in memory: </strong> 0\n",
       "                        </td>\n",
       "                    </tr>\n",
       "                    <tr>\n",
       "                        <td style=\"text-align: left;\">\n",
       "                            <strong>Tasks ready: </strong> 0\n",
       "                        </td>\n",
       "                        <td style=\"text-align: left;\">\n",
       "                            <strong>Tasks in flight: </strong>0\n",
       "                        </td>\n",
       "                    </tr>\n",
       "                    <tr>\n",
       "                        <td style=\"text-align: left;\">\n",
       "                            <strong>CPU usage:</strong> 4.0%\n",
       "                        </td>\n",
       "                        <td style=\"text-align: left;\">\n",
       "                            <strong>Last seen: </strong> Just now\n",
       "                        </td>\n",
       "                    </tr>\n",
       "                    <tr>\n",
       "                        <td style=\"text-align: left;\">\n",
       "                            <strong>Memory usage: </strong> 141.41 MiB\n",
       "                        </td>\n",
       "                        <td style=\"text-align: left;\">\n",
       "                            <strong>Spilled bytes: </strong> 0 B\n",
       "                        </td>\n",
       "                    </tr>\n",
       "                    <tr>\n",
       "                        <td style=\"text-align: left;\">\n",
       "                            <strong>Read bytes: </strong> 264.0497339462799 B\n",
       "                        </td>\n",
       "                        <td style=\"text-align: left;\">\n",
       "                            <strong>Write bytes: </strong> 264.0497339462799 B\n",
       "                        </td>\n",
       "                    </tr>\n",
       "                    \n",
       "\n",
       "                </table>\n",
       "            </details>\n",
       "            </div>\n",
       "        </div>\n",
       "        \n",
       "\n",
       "    </details>\n",
       "</div>\n",
       "            </details>\n",
       "        \n",
       "\n",
       "    </div>\n",
       "</div>"
      ],
      "text/plain": [
       "<Client: 'tcp://172.31.0.2:8786' processes=6 threads=6, memory=11.62 GiB>"
      ]
     },
     "execution_count": 3,
     "metadata": {},
     "output_type": "execute_result"
    }
   ],
   "source": [
    "from dask.distributed import Client\n",
    "#dask-scheduler is an alias for the ip address of the scheduler. I believe it is set up in the image of the jupyter notebook machine. \n",
    "client = Client('dask-scheduler:8786')\n",
    "client"
   ]
  },
  {
   "cell_type": "code",
   "execution_count": 54,
   "id": "d5ddda9b",
   "metadata": {},
   "outputs": [
    {
     "data": {
      "text/html": [
       "<table>\n",
       "    <tr>\n",
       "        <th>Worker</th>\n",
       "        <th>Key count</th>\n",
       "        <th>Key list</th>\n",
       "    </tr>\n",
       "\n",
       "    \n",
       "    <tr>\n",
       "        <td>tcp://172.31.0.3:43215</td>\n",
       "        <td>0</td>\n",
       "        <td>\n",
       "            <details>\n",
       "            <summary style='display:list-item'>Expand</summary>\n",
       "            <table>\n",
       "            \n",
       "            </table>\n",
       "            </details>\n",
       "        </td>\n",
       "    </tr>\n",
       "    \n",
       "    <tr>\n",
       "        <td>tcp://172.31.0.5:42049</td>\n",
       "        <td>0</td>\n",
       "        <td>\n",
       "            <details>\n",
       "            <summary style='display:list-item'>Expand</summary>\n",
       "            <table>\n",
       "            \n",
       "            </table>\n",
       "            </details>\n",
       "        </td>\n",
       "    </tr>\n",
       "    \n",
       "    <tr>\n",
       "        <td>tcp://172.31.0.6:44719</td>\n",
       "        <td>0</td>\n",
       "        <td>\n",
       "            <details>\n",
       "            <summary style='display:list-item'>Expand</summary>\n",
       "            <table>\n",
       "            \n",
       "            </table>\n",
       "            </details>\n",
       "        </td>\n",
       "    </tr>\n",
       "    \n",
       "    <tr>\n",
       "        <td>tcp://172.31.0.7:36985</td>\n",
       "        <td>0</td>\n",
       "        <td>\n",
       "            <details>\n",
       "            <summary style='display:list-item'>Expand</summary>\n",
       "            <table>\n",
       "            \n",
       "            </table>\n",
       "            </details>\n",
       "        </td>\n",
       "    </tr>\n",
       "    \n",
       "    <tr>\n",
       "        <td>tcp://172.31.0.8:41779</td>\n",
       "        <td>0</td>\n",
       "        <td>\n",
       "            <details>\n",
       "            <summary style='display:list-item'>Expand</summary>\n",
       "            <table>\n",
       "            \n",
       "            </table>\n",
       "            </details>\n",
       "        </td>\n",
       "    </tr>\n",
       "    \n",
       "    <tr>\n",
       "        <td>tcp://172.31.0.9:34851</td>\n",
       "        <td>0</td>\n",
       "        <td>\n",
       "            <details>\n",
       "            <summary style='display:list-item'>Expand</summary>\n",
       "            <table>\n",
       "            \n",
       "            </table>\n",
       "            </details>\n",
       "        </td>\n",
       "    </tr>\n",
       "    \n",
       "</table>"
      ],
      "text/plain": [
       "{'tcp://172.31.0.3:43215': (),\n",
       " 'tcp://172.31.0.5:42049': (),\n",
       " 'tcp://172.31.0.6:44719': (),\n",
       " 'tcp://172.31.0.7:36985': (),\n",
       " 'tcp://172.31.0.8:41779': (),\n",
       " 'tcp://172.31.0.9:34851': ()}"
      ]
     },
     "execution_count": 54,
     "metadata": {},
     "output_type": "execute_result"
    }
   ],
   "source": [
    "client.restart()\n",
    "client.has_what()"
   ]
  },
  {
   "cell_type": "code",
   "execution_count": 5,
   "id": "b495158f",
   "metadata": {},
   "outputs": [],
   "source": [
    "# from dask.distributed import Client\n",
    "# #dask-scheduler is an alias for the ip address of the scheduler. I believe it is set up in the image of the jupyter notebook machine. \n",
    "# client = Client('10.67.22.116:8786')\n",
    "# client"
   ]
  },
  {
   "cell_type": "markdown",
   "id": "451d61a2",
   "metadata": {},
   "source": [
    "# Preamble\n",
    "In the preamble the labels.csv is loaded into a dask dataframe. Some basic operations are applied to get information that will be usefull later for the image pre processing. The data comefortably fits into ram and so dask automatically gives it one partition. \n",
    "\n",
    "First the task graph will be inspected for the entire preamble. Then the change in the task graph will be inspected as we change the number of partitions.\n",
    "\n",
    "Then an analysis is performed for the time taken to perform the preamble as a function of the number of partitions. As the data comefortably fits into ram there is no risk of crashing the workers from too few larger partitions. It is expected that it will run the fasted with the number of partitions that equal the number of workers. This is because there is less time reading and writing. Similarly as the number of partitions grows beyond the number of workers it is expected the time taken will increase linearly. As then number of reads increases linearly.\n",
    "\n",
    "In a later part of the notebook there is a similar analysis for varying data sizes. "
   ]
  },
  {
   "cell_type": "code",
   "execution_count": 5,
   "id": "1090fdab",
   "metadata": {},
   "outputs": [],
   "source": [
    "def loadData():\n",
    "    labels_path = Path('/opt','workspace','data','labels.csv')\n",
    "    df = dd.read_csv('/opt/workspace/data/labels.csv')\n",
    "    df.columns = ['species', 'box_topleft_x', 'box_topleft_y', 'box_width', 'box_height', 'filename',       'image_width', 'image_height']\n",
    "    meta = df.head(1)\n",
    "    return df, meta\n",
    "df, meta = loadData()\n",
    "def preamble(df, meta, persist=False):\n",
    "    df = df.drop(columns='species')\n",
    "    meta = meta.drop(columns = 'species')\n",
    "    #adding bottom right box corners\n",
    "    # co-ordinated measured from top left corner of image being 0\n",
    "    df['box_bottomright_x'] = df['box_topleft_x'] + df['box_width']\n",
    "    df['box_bottomright_y'] = df['box_topleft_y'] + df['box_height']\n",
    "    meta['box_bottomright_x'] = 1\n",
    "    meta['box_bottomright_y'] = 1\n",
    "    \n",
    "    # adding the max box dimension for best size analysis\n",
    "    def maxdim(partition):\n",
    "        partition['max_box_dim'] = np.maximum(partition['box_width'],partition['box_height'])\n",
    "        return partition\n",
    "    meta['max_box_dim'] = 1\n",
    "    df = df.map_partitions(maxdim, meta = meta)\n",
    "    \n",
    "    # adding paths for easier file reading\n",
    "    def makePath(partition):\n",
    "        def makePath2(row):\n",
    "            return Path('/opt','workspace','data','images',row['filename'])\n",
    "        partition['file_path'] = partition.apply(makePath2, axis = 1)\n",
    "        return partition\n",
    "    meta['file_path'] = Path()\n",
    "    df = df.map_partitions(makePath, meta = meta)\n",
    "    \n",
    "    # add a face number (taken fromt he file name) to save the files properly\n",
    "    def faceNumber(partition):\n",
    "        def faceNumber2(row):\n",
    "            filename = row['filename']\n",
    "            found = re.search('[0-9]+',filename)\n",
    "            return filename[found.start():found.end()]\n",
    "        \n",
    "        partition['face_number'] = partition.apply(faceNumber2, axis = 1)\n",
    "        return partition\n",
    "    meta['face_number'] = 'a String'\n",
    "    df = df.map_partitions(faceNumber, meta = meta)\n",
    "\n",
    "    # getting rid of images with extra faces\n",
    "    df = df.groupby('filename', sort = False).first()\n",
    "    meta = meta.drop(columns='filename')\n",
    "    if persist==True: df = df.persist()\n",
    "    return df, meta\n",
    "\n",
    "predf, premeta = preamble(df, meta)\n",
    "#predf.visualize()"
   ]
  },
  {
   "cell_type": "code",
   "execution_count": 6,
   "id": "74b1c29e",
   "metadata": {},
   "outputs": [],
   "source": [
    "predf5 = df\n",
    "meta5 = meta\n",
    "predf5 = predf5.repartition(npartitions = 5)\n",
    "predf5, meta5 = preamble(predf5, meta5)\n",
    "#predf5.visualize()\n"
   ]
  },
  {
   "cell_type": "markdown",
   "id": "d236a57b",
   "metadata": {},
   "source": [
    "# Preamble Partition Test\n",
    "\n",
    "The results of the preamble partition test is shown below. It was expected to see smaller computation times as we partition up to the number of workers as then we have paralellisation. It was expected for computation time to increase as we partition pas the number of workers as then we have more time dedicated to reading and writing. \n",
    "\n"
   ]
  },
  {
   "cell_type": "code",
   "execution_count": 61,
   "id": "bc0793f4",
   "metadata": {},
   "outputs": [],
   "source": [
    "def partitionTest(fun,partitions,itterations,verbose=False):\n",
    "    times = np.empty(len(partitions))\n",
    "    std = np.empty(len(partitions))\n",
    "    for i in partitions:\n",
    "        if (verbose): print('Number of Partitions: ',i)\n",
    "        times2 = []\n",
    "        for j in itterations:\n",
    "            client.restart()\n",
    "            df, meta = loadData()\n",
    "            t1 = time.perf_counter()\n",
    "            fun(df,meta)\n",
    "            t2 = time.perf_counter()\n",
    "            times2.append(t2-t1)\n",
    "        times[i-1] = np.mean(times2)\n",
    "        std[i-1] = np.std(times2)\n",
    "    times = times*1000\n",
    "    std = std*1000\n",
    "    plt.plot(partitions,times)\n",
    "    plt.fill_between(partitions,times+std,times-std, label='Standard Deviation', color=(0.9,0.2,0.2,0.7))\n",
    "    plt.xlabel('number of partitions')\n",
    "    plt.ylabel('time taken in micro seconds')\n",
    "    return times\n",
    "    \n",
    "def workerTest(fun,*args,**kwargs):\n",
    "    #Will function, but I can't unretire the workers once they are retired\n",
    "    # I think I need jakes ssh thing to reconnect to the workers\n",
    "    workers = client.scheduler_info()['workers'].keys()\n",
    "    times = []\n",
    "    nworkers = range(len(workers))\n",
    "    for worker in workers:\n",
    "         client.retire_workers(workers=[worker])\n",
    "         t1 = time.perf_counter()\n",
    "         fun(*args, **kwargs)\n",
    "         t2 = time.perf_counter()\n",
    "         times.append(t2-t1)\n",
    "    plt.plot(nworkers,times)\n",
    "    plt.xlabel('Number of Workers')\n",
    "    plt.ylabel('Times taken to Process, s')\n"
   ]
  },
  {
   "cell_type": "code",
   "execution_count": 64,
   "id": "819ba0ae",
   "metadata": {},
   "outputs": [
    {
     "data": {
      "text/plain": [
       "<matplotlib.legend.Legend at 0x7f9355c7f760>"
      ]
     },
     "execution_count": 64,
     "metadata": {},
     "output_type": "execute_result"
    },
    {
     "data": {
      "image/png": "[encoded data removed]",
      "text/plain": [
       "<Figure size 432x288 with 1 Axes>"
      ]
     },
     "metadata": {
      "needs_background": "light"
     },
     "output_type": "display_data"
    }
   ],
   "source": [
    "#partestdf, meta = loadData()\n",
    "workers = client.scheduler_info()['workers'].keys()\n",
    "nworkers = len(workers)\n",
    "partitions = range(1,20,1)\n",
    "itterations = range(100)\n",
    "partitionTest(preamble,partitions,\n",
    "plt.title('Preamble Partition Test, nWorkers = 6')\n",
    "plt.axvline(nworkers,color='red', label = 'Number of Workers')\n",
    "\n",
    "plt.legend()"
   ]
  },
  {
   "cell_type": "code",
   "execution_count": null,
   "id": "7d9e16be",
   "metadata": {},
   "outputs": [],
   "source": [
    "def nothing(df,meta): \n",
    "    df\n",
    "partitionTest(nothing,partitions,range(100))"
   ]
  },
  {
   "cell_type": "markdown",
   "id": "612a9bf2",
   "metadata": {},
   "source": [
    "# Determining Image Size\n",
    "A deep learning model must accept data of the same size. So we will rescale all of our images to this size. The mode of the max box dimension will be used as our default image size."
   ]
  },
  {
   "cell_type": "code",
   "execution_count": 20,
   "id": "4424e0fc",
   "metadata": {},
   "outputs": [
    {
     "name": "stdout",
     "output_type": "stream",
     "text": [
      "The mode of the max box dimensions is:  198\n",
      "This will be our default image width and height for the ML model\n"
     ]
    },
    {
     "data": {
      "image/png": "[encoded data removed]",
      "text/plain": [
       "<Figure size 1440x720 with 1 Axes>"
      ]
     },
     "metadata": {
      "needs_background": "light"
     },
     "output_type": "display_data"
    }
   ],
   "source": [
    "fig = plt.figure(figsize=(20,10))\n",
    "plt.hist(df['max_box_dim'].compute(), bins = 60, log = False)\n",
    "box_dim_mode = df['max_box_dim'].mode().compute()[0]\n",
    "plt.axvline(box_dim_mode, color = 'red')\n",
    "plt.xlabel('Face Box Max Dimension, px')\n",
    "plt.ylabel('Frequency')\n",
    "print('The mode of the max box dimensions is: ',box_dim_mode)\n",
    "print('This will be our default image width and height for the ML model')"
   ]
  },
  {
   "cell_type": "markdown",
   "id": "35c9553c",
   "metadata": {},
   "source": [
    "# Image Processing\n",
    "The data in the dask data frame will be used to crop and resize the turtle images to 198x198. The turtle face will be extracted from each photo to create the Face samples. A random portions of each photo, the same size as the face portion, will be selected to create to noFace samples.\n",
    "\n",
    "To accomplish this the face information of the data frame needs to be linked with it's corrosponding image. If I load all of the images into a dask array. It is impossable to know their order and how they match up with the dataframes information.\n",
    "\n",
    "The first approach to overcome this is to go through each row of the dask dataframe and load the corrosponding image, manipulate it and then add it to a dask array for further processing. This works but adds an unecessary amount of reading time to the process.\n",
    "\n",
    "The second approach is to load the images into the dataframe as a column. Then it is already there close to the face information. And can be used multiple times without the need to reload the images. This significantly increases the size of the datframe and so a small number of partitions can kill the workers.\n"
   ]
  },
  {
   "cell_type": "markdown",
   "id": "08102051",
   "metadata": {},
   "source": [
    "# Getting the Face Images approach 1\n",
    "\n",
    "The ML model will be trained to classify partial images of turtles into face and noFace. The provided images of turtles will be processed to extract the turtles faces. Labels have been provided represent a box surrounding the turtles face in each image. The boxes are not square. The ML model needs all the images to be the same size. To overcome this the shorter side is made equal to the longer size and the image is cropped to the new box. \n",
    "\n",
    "The next code cell will do the following:\n",
    " - run a function getFace on each dask dataframe partition, which is a pandas dataframe\n",
    " (Each partition can be ran on a different core/thread)\n",
    "    - run a function getFace2 on each row of the partition.\n",
    "        - This function will load the image associated with the row\n",
    "        - Crop the image to a square the box that is mostly taken up by the turtles face\n",
    "        - Save the new image to a file. "
   ]
  },
  {
   "cell_type": "code",
   "execution_count": 5,
   "id": "55d5924f",
   "metadata": {},
   "outputs": [],
   "source": [
    "df, meta = loadData()\n",
    "facedf, meta = preamble(df, meta, persist=True)\n",
    "from skimage import util\n",
    "def getFace(partition):\n",
    "    def getFace2(image_info):\n",
    "        im = io.imread(image_info['file_path'])\n",
    "        im = im[:,:,:3]# remove fourth channel if it exists\n",
    "        var = locals()\n",
    "        y = image_info['box_topleft_y']\n",
    "        x = image_info['box_topleft_x']\n",
    "        dim = {'box_width':image_info['box_width'],'box_height':image_info['box_height']}\n",
    "        max_dim_key = max(dim, key = dim.get)\n",
    "        max_dim = image_info['max_box_dim']\n",
    "        dif = np.abs(image_info['box_width'] - image_info['box_height'])\n",
    "        half_dif = int(dif/2)\n",
    "    \n",
    "        if max_dim_key == 'box_width':\n",
    "            new_top = y-half_dif\n",
    "            new_bottom = new_top + max_dim\n",
    "            pad_width = 0\n",
    "            if(new_top < 0):\n",
    "                pad_width = -new_top\n",
    "                new_top = 0\n",
    "            if(new_bottom > image_info['image_height']):\n",
    "                pad_width = new_bottom - image_info['image_height']\n",
    "                new_bottom = image_info['image_height']\n",
    "        \n",
    "            im = np.pad(im, pad_width = [(pad_width,pad_width),(pad_width,pad_width),(0,0)], mode = 'reflect')\n",
    "            face = im[ new_top : new_bottom, x : x+max_dim, :]\n",
    "            \n",
    "        if max_dim_key == 'box_height':\n",
    "            new_left = x-half_dif\n",
    "            new_right = new_left + max_dim\n",
    "            pad_width = 0\n",
    "            if(new_left < 0):\n",
    "                pad_width = -new_left\n",
    "                new_left = 0\n",
    "            if(new_left > image_info['image_width']):\n",
    "                pad_width = new_left - image_info['image_width']\n",
    "                new_left = image_info['image_width']\n",
    "            im = np.pad(im, pad_width = [(pad_width,pad_width),(pad_width,pad_width),(0,0)], mode = 'reflect')\n",
    "            face = im[ y : y+max_dim, new_left : new_right, :]\n",
    "        path = Path('/opt','workspace','data','Faces3','face_'+image_info['face_number']+'.jpg')\n",
    "        face = transform.resize(face,(198,198,3))\n",
    "        face = util.img_as_ubyte(face)\n",
    "        #io.imsave(path,face)\n",
    "        return [face]\n",
    "    partition['face_img'] = partition.apply(getFace2, axis = 1)\n",
    "    return partition\n",
    "    \n",
    "facedf = facedf.repartition(npartitions=1000).persist()\n",
    "#facedf = facedf.partitions[0:3]\n",
    "def face(facedf, meta):\n",
    "    facedf = facedf.map_partitions(getFace, meta = meta).persist()\n",
    "    wait(facedf)\n",
    "    return facedf\n",
    "meta['face_img'] = [np.zeros((198,198,3))] \n",
    "facedf = face(facedf, meta)\n",
    "# partitionTest2(face,facedf,start=1,stop=16,step=1)\n",
    "# plt.title('Getting Face Images Partition Test')\n"
   ]
  },
  {
   "cell_type": "code",
   "execution_count": 10,
   "id": "f4acce67",
   "metadata": {},
   "outputs": [
    {
     "data": {
      "text/html": [
       "<div>\n",
       "<style scoped>\n",
       "    .dataframe tbody tr th:only-of-type {\n",
       "        vertical-align: middle;\n",
       "    }\n",
       "\n",
       "    .dataframe tbody tr th {\n",
       "        vertical-align: top;\n",
       "    }\n",
       "\n",
       "    .dataframe thead th {\n",
       "        text-align: right;\n",
       "    }\n",
       "</style>\n",
       "<table border=\"1\" class=\"dataframe\">\n",
       "  <thead>\n",
       "    <tr style=\"text-align: right;\">\n",
       "      <th></th>\n",
       "      <th>box_topleft_x</th>\n",
       "      <th>box_topleft_y</th>\n",
       "      <th>box_width</th>\n",
       "      <th>box_height</th>\n",
       "      <th>image_width</th>\n",
       "      <th>image_height</th>\n",
       "      <th>box_bottomright_x</th>\n",
       "      <th>box_bottomright_y</th>\n",
       "      <th>max_box_dim</th>\n",
       "      <th>file_path</th>\n",
       "      <th>face_number</th>\n",
       "      <th>face_img</th>\n",
       "    </tr>\n",
       "    <tr>\n",
       "      <th>filename</th>\n",
       "      <th></th>\n",
       "      <th></th>\n",
       "      <th></th>\n",
       "      <th></th>\n",
       "      <th></th>\n",
       "      <th></th>\n",
       "      <th></th>\n",
       "      <th></th>\n",
       "      <th></th>\n",
       "      <th></th>\n",
       "      <th></th>\n",
       "      <th></th>\n",
       "    </tr>\n",
       "  </thead>\n",
       "  <tbody>\n",
       "    <tr>\n",
       "      <th>Image_10.jpg</th>\n",
       "      <td>3232</td>\n",
       "      <td>777</td>\n",
       "      <td>874</td>\n",
       "      <td>848</td>\n",
       "      <td>5616</td>\n",
       "      <td>2633</td>\n",
       "      <td>4106</td>\n",
       "      <td>1625</td>\n",
       "      <td>874</td>\n",
       "      <td>/opt/workspace/data/images/Image_10.jpg</td>\n",
       "      <td>10</td>\n",
       "      <td>[[[[  0 196 244], [  0 196 244], [  0 197 245]...</td>\n",
       "    </tr>\n",
       "  </tbody>\n",
       "</table>\n",
       "</div>"
      ],
      "text/plain": [
       "              box_topleft_x  box_topleft_y  box_width  box_height  \\\n",
       "filename                                                            \n",
       "Image_10.jpg           3232            777        874         848   \n",
       "\n",
       "              image_width  image_height  box_bottomright_x  box_bottomright_y  \\\n",
       "filename                                                                        \n",
       "Image_10.jpg         5616          2633               4106               1625   \n",
       "\n",
       "              max_box_dim                                file_path  \\\n",
       "filename                                                             \n",
       "Image_10.jpg          874  /opt/workspace/data/images/Image_10.jpg   \n",
       "\n",
       "             face_number                                           face_img  \n",
       "filename                                                                     \n",
       "Image_10.jpg          10  [[[[  0 196 244], [  0 196 244], [  0 197 245]...  "
      ]
     },
     "execution_count": 10,
     "metadata": {},
     "output_type": "execute_result"
    }
   ],
   "source": [
    "facedf.head()"
   ]
  },
  {
   "cell_type": "markdown",
   "id": "e400ddf7",
   "metadata": {},
   "source": [
    "# Getting the noFace images approach 1\n",
    "\n",
    "The ML model will be trained to classify partial images of turtles into face and no face. The provided images of turtles will be processed to extract sections of those images that do not contain a face. To do this the information in the dataframe of the face location is required.\n",
    "\n",
    "The next code cell will do the following:\n",
    " - run a function getNoFace on each dask dataframe partition which is a pandas dataframe\n",
    " (Each partition can be ran on a different core/thread)\n",
    "    - run a function getNoFace2 on each row of the partition.\n",
    "        - This will load the image associated with the row\n",
    "        - split it into four images, one on each side of the turtle face box, these images are called sides\n",
    "        - Take the largest of these four sides and take a random chunck about the same size as the face box. This is the extracted noFace image. (This makes sure the no face images are as similar as possible to the face image, in terms of resolution and amount of the turtle visable)\n",
    "        - Sometimes the largest side is smaller then the face box. In this case the largest random square is taken as the noFace Image.\n",
    "        - The noFace image extraced is resized to 198 by 198 pixels. (This is the mode of the largest facebox dimension, and so most of the face images are limited to this ammount of imformation.)\n",
    "        - The the new noFace image is then saved to a file.\n",
    " "
   ]
  },
  {
   "cell_type": "code",
   "execution_count": 6,
   "id": "b144ded1",
   "metadata": {},
   "outputs": [],
   "source": [
    "def getNoFace(partition):\n",
    "    def getNoFace2(image_info):\n",
    "        im = io.imread(image_info['file_path'])\n",
    "        im = im[:,:,:3]# remove fourth channel if it exists\n",
    "        im_left = im[:, 0:image_info['box_topleft_x'] ,:]\n",
    "        im_right = im[:, image_info['box_bottomright_x']: ,:]\n",
    "        im_top = im[0:image_info['box_topleft_y'],:,:]\n",
    "        im_bottom = im[image_info['box_bottomright_y']:,:,:]\n",
    "        var = locals()\n",
    "        sizes ={'im_left':np.min(np.shape(im_left)[0:2]),'im_right':np.min(np.shape(im_right)[0:2]),'im_top':np.min(np.shape(im_top)[0:2]),'im_bottom':np.min(np.shape(im_bottom)[0:2])}\n",
    "        max_side_key = max(sizes, key = sizes.get)\n",
    "        rand_gen = np.random.default_rng(12345)\n",
    "        max_box_dim = np.max([image_info['box_width'],image_info['box_height']])\n",
    "        if sizes[max_side_key]<max_box_dim:\n",
    "            side = var[max_side_key]\n",
    "            dim = np.shape(side)[0:2]\n",
    "            side_max_ind = np.argmax(dim)\n",
    "            side_min_ind = not side_max_ind\n",
    "            high = dim[side_max_ind] - dim[side_min_ind]\n",
    "            along = rand_gen.integers(low = 0, high = high)\n",
    "            if(side_max_ind == 0):\n",
    "                noFace = side[along:along+dim[side_min_ind],:,:]\n",
    "            elif(side_max_ind == 1):\n",
    "                noFace = side[:, along:along+dim[side_min_ind] ,:]\n",
    "        else:\n",
    "            side = var[max_side_key]\n",
    "            side_width = np.shape(side)[1]\n",
    "            side_height = np.shape(side)[0]\n",
    "            rtlx = rand_gen.integers(low = 0, high = side_width - max_box_dim)\n",
    "            rtly = rand_gen.integers(low = 0, high = side_height - max_box_dim)\n",
    "            noFace = side[rtly:rtly+max_box_dim, rtlx:rtlx+max_box_dim, :]\n",
    "        noFace = transform.resize(noFace,(198,198,3)) \n",
    "        path = Path('/opt','workspace','data','noFaces3','noFace_'+image_info['face_number']+'.jpg')\n",
    "        #io.imsave(path,noFace)\n",
    "        return [noFace]\n",
    "    partition['noFace_img'] = partition.apply(getNoFace2, axis = 1)\n",
    "    return partition\n",
    "    \n",
    "\n",
    "#facedf = facedf.partitions[0:3]\n",
    "def noFace(nofacedf, meta):\n",
    "    nofacedf = facedf.map_partitions(getNoFace, meta = meta).persist()\n",
    "    wait(nofacedf)\n",
    "    return nofacedf\n",
    "meta['noFace_img'] = [np.zeros((198,198,3))] \n",
    "nofacedf = noFace(facedf, meta)\n",
    "        \n",
    "#partitionTest2(noface,nofacedf)"
   ]
  },
  {
   "cell_type": "code",
   "execution_count": 11,
   "id": "1e1a060a",
   "metadata": {},
   "outputs": [
    {
     "data": {
      "text/plain": [
       "1999"
      ]
     },
     "execution_count": 11,
     "metadata": {},
     "output_type": "execute_result"
    }
   ],
   "source": [
    "len(nofacedf)"
   ]
  },
  {
   "cell_type": "markdown",
   "id": "61c9ad55",
   "metadata": {},
   "source": [
    "# Distributed Tensorflow CNN"
   ]
  },
  {
   "cell_type": "code",
   "execution_count": 7,
   "id": "6a3ae758",
   "metadata": {},
   "outputs": [
    {
     "data": {
      "text/html": [
       "<div>\n",
       "<style scoped>\n",
       "    .dataframe tbody tr th:only-of-type {\n",
       "        vertical-align: middle;\n",
       "    }\n",
       "\n",
       "    .dataframe tbody tr th {\n",
       "        vertical-align: top;\n",
       "    }\n",
       "\n",
       "    .dataframe thead th {\n",
       "        text-align: right;\n",
       "    }\n",
       "</style>\n",
       "<table border=\"1\" class=\"dataframe\">\n",
       "  <thead>\n",
       "    <tr style=\"text-align: right;\">\n",
       "      <th></th>\n",
       "      <th>face_img</th>\n",
       "      <th>noFace_img</th>\n",
       "    </tr>\n",
       "    <tr>\n",
       "      <th>face_number</th>\n",
       "      <th></th>\n",
       "      <th></th>\n",
       "    </tr>\n",
       "  </thead>\n",
       "  <tbody>\n",
       "    <tr>\n",
       "      <th>10</th>\n",
       "      <td>[[[[  0 196 244], [  0 196 244], [  0 197 245]...</td>\n",
       "      <td>[[[[7.20033359e-04 6.90920074e-01 9.14448077e-...</td>\n",
       "    </tr>\n",
       "  </tbody>\n",
       "</table>\n",
       "</div>"
      ],
      "text/plain": [
       "                                                      face_img  \\\n",
       "face_number                                                      \n",
       "10           [[[[  0 196 244], [  0 196 244], [  0 197 245]...   \n",
       "\n",
       "                                                    noFace_img  \n",
       "face_number                                                     \n",
       "10           [[[[7.20033359e-04 6.90920074e-01 9.14448077e-...  "
      ]
     },
     "execution_count": 7,
     "metadata": {},
     "output_type": "execute_result"
    }
   ],
   "source": [
    "# extract the usefull information from the datafram\n",
    "drop = ['box_topleft_x','box_topleft_y','box_width','box_height','image_width','image_height','box_bottomright_x','box_bottomright_y','max_box_dim','file_path']\n",
    "data = nofacedf.drop(columns=drop)\n",
    "data = data.set_index('face_number')\n",
    "data.head()\n"
   ]
  },
  {
   "cell_type": "code",
   "execution_count": 8,
   "id": "7a640c49",
   "metadata": {},
   "outputs": [],
   "source": [
    "# marcos cnn model\n",
    "def build_cnn():\n",
    "    cnn = models.Sequential([\n",
    "        layers.Conv2D(filters=30, kernel_size=(3,3), activation='relu', input_shape=(198,198,3)),\n",
    "        layers.MaxPooling2D((10,10)),\n",
    "        layers.Conv2D(filters=30, kernel_size=(3,3), activation='relu', input_shape=(198,198,3)),\n",
    "        layers.MaxPooling2D((10,10)),\n",
    "        #dense\n",
    "        layers.Flatten(),\n",
    "        layers.Dense(50, activation='relu'),\n",
    "        layers.Dense(2, activation='softmax')\n",
    "    ])\n",
    "    # compile\n",
    "    cnn.compile(optimizer='adam', loss='sparse_categorical_crossentropy', metrics=['accuracy'])\n",
    "    #summary\n",
    "    #print(cnn.summary())\n",
    "    return cnn\n",
    "\n",
    "#function to turn a pandas partition of the data into a form the model will accept\n",
    "def extractData(pdf):\n",
    "    faces = pdf['face_img'].tolist()\n",
    "    faces = [i[0] for i in faces]\n",
    "    faces = np.array(faces)\n",
    "    labelsF = np.ones(len(faces))    \n",
    "    nofaces = pdf['noFace_img'].tolist()\n",
    "    nofaces = [i[0] for i in nofaces]\n",
    "    nofaces = np.array(nofaces)\n",
    "    labelsNF = np.zeros(len(nofaces))\n",
    "    data = np.concatenate((faces,nofaces), axis = 0)\n",
    "    labels = np.concatenate((labelsF,labelsNF))\n",
    "    return data, labels\n",
    "\n",
    "#a delayed function to be applyed to each partition of the dd that hold the validation data\n",
    "#The returned futures can then be converted into a form marco's model will accept  \n",
    "@dask.delayed\n",
    "def extractValData(pdf):\n",
    "    data, labels = extractData(pdf)\n",
    "    val = pd.DataFrame()\n",
    "    val['v_data'] = [data]\n",
    "    val['v_labels'] = [labels]\n",
    "    return (data,labels)\n",
    "\n",
    "# seperating into training and validation sets. Then brining the validation to the working machine\n",
    "#too high and it will crash the workers, too low and our validations are innaccurate\n",
    "n_rows = 400#marco did 400\n",
    "v_ind = [str(i) for i in range(2,n_rows+2)]\n",
    "t_ind = [str(i) for i in range(n_rows+2,len(data))]\n",
    "v_data = data.loc[v_ind]\n",
    "t_data = data.loc[t_ind]\n",
    "\n",
    "v_data = v_data.repartition(npartitions=100)\n",
    "v_meta = pd.DataFrame()\n",
    "v_meta['v_data'] = [np.ones((2,2))]\n",
    "v_meta['v_labels'] = [np.ones((2,2))]\n",
    "\n",
    "v_data_futures = []\n",
    "for partition in v_data.partitions:\n",
    "    future = extractValData(partition)\n",
    "    v_data_futures.append(future)\n",
    "\n",
    "v_data = [future.compute() for future in v_data_futures]\n",
    "v_labels = np.concatenate([i[1] for i in v_data])\n",
    "v_data = np.concatenate([i[0] for i in v_data],axis = 0)\n",
    "\n"
   ]
  },
  {
   "cell_type": "code",
   "execution_count": 9,
   "id": "07935c0e",
   "metadata": {},
   "outputs": [],
   "source": [
    "n_rowsper_part = 5\n",
    "n_rows = len(t_data)\n",
    "n_part = n_rows//n_rowsper_part\n",
    "t_data = t_data.repartition(npartitions=n_part)"
   ]
  },
  {
   "cell_type": "code",
   "execution_count": 10,
   "id": "0d5d2e56",
   "metadata": {},
   "outputs": [],
   "source": [
    "t_data = t_data.persist()\n",
    "wait(t_data)\n",
    "a = 5"
   ]
  },
  {
   "cell_type": "code",
   "execution_count": 11,
   "id": "331d88d9",
   "metadata": {},
   "outputs": [],
   "source": [
    "# def train(partition):\n",
    "#     #data, labels = extractData(partition)\n",
    "# #     cnn = cnn.set_weights(weights)\n",
    "# #     fit = cnn.fit(data,labels, epochs = epochs)\n",
    "# #     weights = cnn.get_weights()\n",
    "# #     loss, acc = fit.validate(v_data, v_labels)\n",
    "# #     results = pd.DataFrame()\n",
    "# #     results['acc'] = acc\n",
    "# #     results['weights'] = weights\n",
    "#     res = pd.DataFrame()\n",
    "#     res['type'] = type(partition)\n",
    "#     #res['labels'] = [labels]\n",
    "#     return res\n",
    "# t_d = t_data.partitions[0:3]\n",
    "# # cnn = build_cnn()\n",
    "# # weights = cnn.get_weights()\n",
    "# #epochs = 10\n",
    "# tr_meta = pd.DataFrame()\n",
    "# tr_meta['type'] = type(pd.DataFrame)\n",
    "# #tr_meta['lables'] = [np.ones(4)]\n",
    "# res = t_d.map_partitions(train, meta = tr_meta)\n",
    "# # cnn = build_cnn()\n",
    "# # init_weights = cnn.get_weights()\n",
    "# # test = data.partitions[0]\n",
    "# # meta = pd.DataFrame(data=[0.1,init_weights],columns=['accuracy','weights'])\n",
    "\n",
    "# # test.map_partitions(train,(cnn),meta = meta).compute()"
   ]
  },
  {
   "cell_type": "code",
   "execution_count": null,
   "id": "753cfee3",
   "metadata": {},
   "outputs": [],
   "source": [
    "for i in range(len(v_data)):\n",
    "    print(i)\n",
    "    vd_small = v_data[:i]\n",
    "    vl_small = v_labels[:i]\n",
    "    vd_small = client.scatter(vd_small)\n",
    "    vl_small = client.scatter(vl_small)"
   ]
  },
  {
   "cell_type": "code",
   "execution_count": 12,
   "id": "43c0b77b",
   "metadata": {},
   "outputs": [],
   "source": [
    "vd_small = v_data[:50]\n",
    "vl_small = v_labels[:50]\n",
    "vd_small = client.scatter(vd_small)\n",
    "vl_small = client.scatter(vl_small)"
   ]
  },
  {
   "cell_type": "code",
   "execution_count": 24,
   "id": "a97aaf4a",
   "metadata": {},
   "outputs": [
    {
     "name": "stdout",
     "output_type": "stream",
     "text": [
      "1.0\n"
     ]
    }
   ],
   "source": [
    "print(vl_small.result())"
   ]
  },
  {
   "cell_type": "code",
   "execution_count": 101,
   "id": "20519efe",
   "metadata": {},
   "outputs": [],
   "source": [
    "ls = v_labels[0:2]\n",
    "ds = v_data[0:2]"
   ]
  },
  {
   "cell_type": "code",
   "execution_count": 70,
   "id": "24872a10",
   "metadata": {},
   "outputs": [
    {
     "ename": "KeyboardInterrupt",
     "evalue": "",
     "output_type": "error",
     "traceback": [
      "\u001b[0;31m---------------------------------------------------------------------------\u001b[0m",
      "\u001b[0;31mKeyboardInterrupt\u001b[0m                         Traceback (most recent call last)",
      "Input \u001b[0;32mIn [70]\u001b[0m, in \u001b[0;36m<cell line: 29>\u001b[0;34m()\u001b[0m\n\u001b[1;32m     26\u001b[0m \u001b[38;5;28;01mfor\u001b[39;00m partition \u001b[38;5;129;01min\u001b[39;00m t_d\u001b[38;5;241m.\u001b[39mpartitions:\n\u001b[1;32m     27\u001b[0m     results\u001b[38;5;241m.\u001b[39mappend(train(partition, weights, vd_small, vl_small))\u001b[38;5;66;03m#, cnn, v_data, v_labels, weights, epochs))\u001b[39;00m\n\u001b[0;32m---> 29\u001b[0m acc \u001b[38;5;241m=\u001b[39m [res\u001b[38;5;241m.\u001b[39mcompute()[\u001b[38;5;241m0\u001b[39m] \u001b[38;5;28;01mfor\u001b[39;00m res \u001b[38;5;129;01min\u001b[39;00m results]\n\u001b[1;32m     30\u001b[0m i_best \u001b[38;5;241m=\u001b[39m np\u001b[38;5;241m.\u001b[39margmax(acc)\n\u001b[1;32m     31\u001b[0m \u001b[38;5;28mprint\u001b[39m(np\u001b[38;5;241m.\u001b[39margmax(acc))\n",
      "Input \u001b[0;32mIn [70]\u001b[0m, in \u001b[0;36m<listcomp>\u001b[0;34m(.0)\u001b[0m\n\u001b[1;32m     26\u001b[0m \u001b[38;5;28;01mfor\u001b[39;00m partition \u001b[38;5;129;01min\u001b[39;00m t_d\u001b[38;5;241m.\u001b[39mpartitions:\n\u001b[1;32m     27\u001b[0m     results\u001b[38;5;241m.\u001b[39mappend(train(partition, weights, vd_small, vl_small))\u001b[38;5;66;03m#, cnn, v_data, v_labels, weights, epochs))\u001b[39;00m\n\u001b[0;32m---> 29\u001b[0m acc \u001b[38;5;241m=\u001b[39m [\u001b[43mres\u001b[49m\u001b[38;5;241;43m.\u001b[39;49m\u001b[43mcompute\u001b[49m\u001b[43m(\u001b[49m\u001b[43m)\u001b[49m[\u001b[38;5;241m0\u001b[39m] \u001b[38;5;28;01mfor\u001b[39;00m res \u001b[38;5;129;01min\u001b[39;00m results]\n\u001b[1;32m     30\u001b[0m i_best \u001b[38;5;241m=\u001b[39m np\u001b[38;5;241m.\u001b[39margmax(acc)\n\u001b[1;32m     31\u001b[0m \u001b[38;5;28mprint\u001b[39m(np\u001b[38;5;241m.\u001b[39margmax(acc))\n",
      "File \u001b[0;32m/opt/conda/lib/python3.9/site-packages/dask/base.py:290\u001b[0m, in \u001b[0;36mDaskMethodsMixin.compute\u001b[0;34m(self, **kwargs)\u001b[0m\n\u001b[1;32m    266\u001b[0m \u001b[38;5;28;01mdef\u001b[39;00m \u001b[38;5;21mcompute\u001b[39m(\u001b[38;5;28mself\u001b[39m, \u001b[38;5;241m*\u001b[39m\u001b[38;5;241m*\u001b[39mkwargs):\n\u001b[1;32m    267\u001b[0m     \u001b[38;5;124;03m\"\"\"Compute this dask collection\u001b[39;00m\n\u001b[1;32m    268\u001b[0m \n\u001b[1;32m    269\u001b[0m \u001b[38;5;124;03m    This turns a lazy Dask collection into its in-memory equivalent.\u001b[39;00m\n\u001b[0;32m   (...)\u001b[0m\n\u001b[1;32m    288\u001b[0m \u001b[38;5;124;03m    dask.base.compute\u001b[39;00m\n\u001b[1;32m    289\u001b[0m \u001b[38;5;124;03m    \"\"\"\u001b[39;00m\n\u001b[0;32m--> 290\u001b[0m     (result,) \u001b[38;5;241m=\u001b[39m \u001b[43mcompute\u001b[49m\u001b[43m(\u001b[49m\u001b[38;5;28;43mself\u001b[39;49m\u001b[43m,\u001b[49m\u001b[43m \u001b[49m\u001b[43mtraverse\u001b[49m\u001b[38;5;241;43m=\u001b[39;49m\u001b[38;5;28;43;01mFalse\u001b[39;49;00m\u001b[43m,\u001b[49m\u001b[43m \u001b[49m\u001b[38;5;241;43m*\u001b[39;49m\u001b[38;5;241;43m*\u001b[39;49m\u001b[43mkwargs\u001b[49m\u001b[43m)\u001b[49m\n\u001b[1;32m    291\u001b[0m     \u001b[38;5;28;01mreturn\u001b[39;00m result\n",
      "File \u001b[0;32m/opt/conda/lib/python3.9/site-packages/dask/base.py:573\u001b[0m, in \u001b[0;36mcompute\u001b[0;34m(traverse, optimize_graph, scheduler, get, *args, **kwargs)\u001b[0m\n\u001b[1;32m    570\u001b[0m     keys\u001b[38;5;241m.\u001b[39mappend(x\u001b[38;5;241m.\u001b[39m__dask_keys__())\n\u001b[1;32m    571\u001b[0m     postcomputes\u001b[38;5;241m.\u001b[39mappend(x\u001b[38;5;241m.\u001b[39m__dask_postcompute__())\n\u001b[0;32m--> 573\u001b[0m results \u001b[38;5;241m=\u001b[39m \u001b[43mschedule\u001b[49m\u001b[43m(\u001b[49m\u001b[43mdsk\u001b[49m\u001b[43m,\u001b[49m\u001b[43m \u001b[49m\u001b[43mkeys\u001b[49m\u001b[43m,\u001b[49m\u001b[43m \u001b[49m\u001b[38;5;241;43m*\u001b[39;49m\u001b[38;5;241;43m*\u001b[39;49m\u001b[43mkwargs\u001b[49m\u001b[43m)\u001b[49m\n\u001b[1;32m    574\u001b[0m \u001b[38;5;28;01mreturn\u001b[39;00m repack([f(r, \u001b[38;5;241m*\u001b[39ma) \u001b[38;5;28;01mfor\u001b[39;00m r, (f, a) \u001b[38;5;129;01min\u001b[39;00m \u001b[38;5;28mzip\u001b[39m(results, postcomputes)])\n",
      "File \u001b[0;32m/opt/conda/lib/python3.9/site-packages/distributed/client.py:3010\u001b[0m, in \u001b[0;36mClient.get\u001b[0;34m(self, dsk, keys, workers, allow_other_workers, resources, sync, asynchronous, direct, retries, priority, fifo_timeout, actors, **kwargs)\u001b[0m\n\u001b[1;32m   3008\u001b[0m         should_rejoin \u001b[38;5;241m=\u001b[39m \u001b[38;5;28;01mFalse\u001b[39;00m\n\u001b[1;32m   3009\u001b[0m \u001b[38;5;28;01mtry\u001b[39;00m:\n\u001b[0;32m-> 3010\u001b[0m     results \u001b[38;5;241m=\u001b[39m \u001b[38;5;28;43mself\u001b[39;49m\u001b[38;5;241;43m.\u001b[39;49m\u001b[43mgather\u001b[49m\u001b[43m(\u001b[49m\u001b[43mpacked\u001b[49m\u001b[43m,\u001b[49m\u001b[43m \u001b[49m\u001b[43masynchronous\u001b[49m\u001b[38;5;241;43m=\u001b[39;49m\u001b[43masynchronous\u001b[49m\u001b[43m,\u001b[49m\u001b[43m \u001b[49m\u001b[43mdirect\u001b[49m\u001b[38;5;241;43m=\u001b[39;49m\u001b[43mdirect\u001b[49m\u001b[43m)\u001b[49m\n\u001b[1;32m   3011\u001b[0m \u001b[38;5;28;01mfinally\u001b[39;00m:\n\u001b[1;32m   3012\u001b[0m     \u001b[38;5;28;01mfor\u001b[39;00m f \u001b[38;5;129;01min\u001b[39;00m futures\u001b[38;5;241m.\u001b[39mvalues():\n",
      "File \u001b[0;32m/opt/conda/lib/python3.9/site-packages/distributed/client.py:2162\u001b[0m, in \u001b[0;36mClient.gather\u001b[0;34m(self, futures, errors, direct, asynchronous)\u001b[0m\n\u001b[1;32m   2160\u001b[0m \u001b[38;5;28;01melse\u001b[39;00m:\n\u001b[1;32m   2161\u001b[0m     local_worker \u001b[38;5;241m=\u001b[39m \u001b[38;5;28;01mNone\u001b[39;00m\n\u001b[0;32m-> 2162\u001b[0m \u001b[38;5;28;01mreturn\u001b[39;00m \u001b[38;5;28;43mself\u001b[39;49m\u001b[38;5;241;43m.\u001b[39;49m\u001b[43msync\u001b[49m\u001b[43m(\u001b[49m\n\u001b[1;32m   2163\u001b[0m \u001b[43m    \u001b[49m\u001b[38;5;28;43mself\u001b[39;49m\u001b[38;5;241;43m.\u001b[39;49m\u001b[43m_gather\u001b[49m\u001b[43m,\u001b[49m\n\u001b[1;32m   2164\u001b[0m \u001b[43m    \u001b[49m\u001b[43mfutures\u001b[49m\u001b[43m,\u001b[49m\n\u001b[1;32m   2165\u001b[0m \u001b[43m    \u001b[49m\u001b[43merrors\u001b[49m\u001b[38;5;241;43m=\u001b[39;49m\u001b[43merrors\u001b[49m\u001b[43m,\u001b[49m\n\u001b[1;32m   2166\u001b[0m \u001b[43m    \u001b[49m\u001b[43mdirect\u001b[49m\u001b[38;5;241;43m=\u001b[39;49m\u001b[43mdirect\u001b[49m\u001b[43m,\u001b[49m\n\u001b[1;32m   2167\u001b[0m \u001b[43m    \u001b[49m\u001b[43mlocal_worker\u001b[49m\u001b[38;5;241;43m=\u001b[39;49m\u001b[43mlocal_worker\u001b[49m\u001b[43m,\u001b[49m\n\u001b[1;32m   2168\u001b[0m \u001b[43m    \u001b[49m\u001b[43masynchronous\u001b[49m\u001b[38;5;241;43m=\u001b[39;49m\u001b[43masynchronous\u001b[49m\u001b[43m,\u001b[49m\n\u001b[1;32m   2169\u001b[0m \u001b[43m\u001b[49m\u001b[43m)\u001b[49m\n",
      "File \u001b[0;32m/opt/conda/lib/python3.9/site-packages/distributed/utils.py:311\u001b[0m, in \u001b[0;36mSyncMethodMixin.sync\u001b[0;34m(self, func, asynchronous, callback_timeout, *args, **kwargs)\u001b[0m\n\u001b[1;32m    309\u001b[0m     \u001b[38;5;28;01mreturn\u001b[39;00m future\n\u001b[1;32m    310\u001b[0m \u001b[38;5;28;01melse\u001b[39;00m:\n\u001b[0;32m--> 311\u001b[0m     \u001b[38;5;28;01mreturn\u001b[39;00m \u001b[43msync\u001b[49m\u001b[43m(\u001b[49m\n\u001b[1;32m    312\u001b[0m \u001b[43m        \u001b[49m\u001b[38;5;28;43mself\u001b[39;49m\u001b[38;5;241;43m.\u001b[39;49m\u001b[43mloop\u001b[49m\u001b[43m,\u001b[49m\u001b[43m \u001b[49m\u001b[43mfunc\u001b[49m\u001b[43m,\u001b[49m\u001b[43m \u001b[49m\u001b[38;5;241;43m*\u001b[39;49m\u001b[43margs\u001b[49m\u001b[43m,\u001b[49m\u001b[43m \u001b[49m\u001b[43mcallback_timeout\u001b[49m\u001b[38;5;241;43m=\u001b[39;49m\u001b[43mcallback_timeout\u001b[49m\u001b[43m,\u001b[49m\u001b[43m \u001b[49m\u001b[38;5;241;43m*\u001b[39;49m\u001b[38;5;241;43m*\u001b[39;49m\u001b[43mkwargs\u001b[49m\n\u001b[1;32m    313\u001b[0m \u001b[43m    \u001b[49m\u001b[43m)\u001b[49m\n",
      "File \u001b[0;32m/opt/conda/lib/python3.9/site-packages/distributed/utils.py:374\u001b[0m, in \u001b[0;36msync\u001b[0;34m(loop, func, callback_timeout, *args, **kwargs)\u001b[0m\n\u001b[1;32m    372\u001b[0m \u001b[38;5;28;01melse\u001b[39;00m:\n\u001b[1;32m    373\u001b[0m     \u001b[38;5;28;01mwhile\u001b[39;00m \u001b[38;5;129;01mnot\u001b[39;00m e\u001b[38;5;241m.\u001b[39mis_set():\n\u001b[0;32m--> 374\u001b[0m         \u001b[43mwait\u001b[49m\u001b[43m(\u001b[49m\u001b[38;5;241;43m10\u001b[39;49m\u001b[43m)\u001b[49m\n\u001b[1;32m    376\u001b[0m \u001b[38;5;28;01mif\u001b[39;00m error:\n\u001b[1;32m    377\u001b[0m     typ, exc, tb \u001b[38;5;241m=\u001b[39m error\n",
      "File \u001b[0;32m/opt/conda/lib/python3.9/site-packages/distributed/utils.py:363\u001b[0m, in \u001b[0;36msync.<locals>.wait\u001b[0;34m(timeout)\u001b[0m\n\u001b[1;32m    361\u001b[0m \u001b[38;5;28;01mdef\u001b[39;00m \u001b[38;5;21mwait\u001b[39m(timeout):\n\u001b[1;32m    362\u001b[0m     \u001b[38;5;28;01mtry\u001b[39;00m:\n\u001b[0;32m--> 363\u001b[0m         \u001b[38;5;28;01mreturn\u001b[39;00m \u001b[43me\u001b[49m\u001b[38;5;241;43m.\u001b[39;49m\u001b[43mwait\u001b[49m\u001b[43m(\u001b[49m\u001b[43mtimeout\u001b[49m\u001b[43m)\u001b[49m\n\u001b[1;32m    364\u001b[0m     \u001b[38;5;28;01mexcept\u001b[39;00m \u001b[38;5;167;01mKeyboardInterrupt\u001b[39;00m:\n\u001b[1;32m    365\u001b[0m         loop\u001b[38;5;241m.\u001b[39madd_callback(cancel)\n",
      "File \u001b[0;32m/opt/conda/lib/python3.9/threading.py:574\u001b[0m, in \u001b[0;36mEvent.wait\u001b[0;34m(self, timeout)\u001b[0m\n\u001b[1;32m    572\u001b[0m signaled \u001b[38;5;241m=\u001b[39m \u001b[38;5;28mself\u001b[39m\u001b[38;5;241m.\u001b[39m_flag\n\u001b[1;32m    573\u001b[0m \u001b[38;5;28;01mif\u001b[39;00m \u001b[38;5;129;01mnot\u001b[39;00m signaled:\n\u001b[0;32m--> 574\u001b[0m     signaled \u001b[38;5;241m=\u001b[39m \u001b[38;5;28;43mself\u001b[39;49m\u001b[38;5;241;43m.\u001b[39;49m\u001b[43m_cond\u001b[49m\u001b[38;5;241;43m.\u001b[39;49m\u001b[43mwait\u001b[49m\u001b[43m(\u001b[49m\u001b[43mtimeout\u001b[49m\u001b[43m)\u001b[49m\n\u001b[1;32m    575\u001b[0m \u001b[38;5;28;01mreturn\u001b[39;00m signaled\n",
      "File \u001b[0;32m/opt/conda/lib/python3.9/threading.py:316\u001b[0m, in \u001b[0;36mCondition.wait\u001b[0;34m(self, timeout)\u001b[0m\n\u001b[1;32m    314\u001b[0m \u001b[38;5;28;01melse\u001b[39;00m:\n\u001b[1;32m    315\u001b[0m     \u001b[38;5;28;01mif\u001b[39;00m timeout \u001b[38;5;241m>\u001b[39m \u001b[38;5;241m0\u001b[39m:\n\u001b[0;32m--> 316\u001b[0m         gotit \u001b[38;5;241m=\u001b[39m \u001b[43mwaiter\u001b[49m\u001b[38;5;241;43m.\u001b[39;49m\u001b[43macquire\u001b[49m\u001b[43m(\u001b[49m\u001b[38;5;28;43;01mTrue\u001b[39;49;00m\u001b[43m,\u001b[49m\u001b[43m \u001b[49m\u001b[43mtimeout\u001b[49m\u001b[43m)\u001b[49m\n\u001b[1;32m    317\u001b[0m     \u001b[38;5;28;01melse\u001b[39;00m:\n\u001b[1;32m    318\u001b[0m         gotit \u001b[38;5;241m=\u001b[39m waiter\u001b[38;5;241m.\u001b[39macquire(\u001b[38;5;28;01mFalse\u001b[39;00m)\n",
      "\u001b[0;31mKeyboardInterrupt\u001b[0m: "
     ]
    }
   ],
   "source": [
    "import dask.bag as db\n",
    "@dask.delayed\n",
    "def train(partition, weights, v_data, v_labels):#, cnn, v_data, v_labels, weights, epochs):\n",
    "    cnn = build_cnn()\n",
    "    cnn.set_weights(weights)\n",
    "    data, labels = extractData(partition)\n",
    "    fit = cnn.fit(data,labels, epochs = 1)\n",
    "    weights = cnn.get_weights()\n",
    "    loss, acc = cnn.evaluate(v_data, v_labels)\n",
    "    return (acc,weights)\n",
    "\n",
    "\n",
    "# def evalu(weights, v_data, v_labels):\n",
    "#     cnn = build_cnn()\n",
    "#     #cnn.set_weights(weights)\n",
    "#     #loss, acc = cnn.evaluate(v_data,v_labels)\n",
    "#     return weights\n",
    "    \n",
    "t_d = t_data.partitions[0:3]\n",
    "t_d = t_d.persist()\n",
    "wait(t_d)\n",
    "cnn = build_cnn()\n",
    "weights = cnn.get_weights()\n",
    "# #epochs = 10\n",
    "results = []\n",
    "for partition in t_d.partitions:\n",
    "    results.append(train(partition, weights, vd_small, vl_small))#, cnn, v_data, v_labels, weights, epochs))\n",
    "    \n",
    "acc = [res.compute()[0] for res in results]\n",
    "i_best = np.argmax(acc)\n",
    "print(np.argmax(acc))\n",
    "best_weights=results[i_best].compute()[1]\n",
    "\n",
    "# results = []\n",
    "# for partition in t_d.partitions:\n",
    "#     results.append(train(partition, best_weights, vd_small, vl_small))\n",
    "# # r_weights = db.from_delayed(r_weights)\n",
    "\n",
    "\n",
    "\n",
    "# cnn = build_cnn()\n",
    "# init_weights = cnn.get_weights()\n",
    "# test = data.partitions[0]\n",
    "# meta = pd.DataFrame(data=[0.1,init_weights],columns=['accuracy','weights'])\n",
    "\n",
    "# test.map_partitions(train,(cnn),meta = meta).compute()"
   ]
  },
  {
   "cell_type": "code",
   "execution_count": 68,
   "id": "62cb1000",
   "metadata": {},
   "outputs": [
    {
     "name": "stdout",
     "output_type": "stream",
     "text": [
      "[0.5199999809265137, 0.5199999809265137, 0.5199999809265137]\n"
     ]
    }
   ],
   "source": [
    "print(acc)"
   ]
  },
  {
   "cell_type": "code",
   "execution_count": 66,
   "id": "a230585c",
   "metadata": {},
   "outputs": [
    {
     "data": {
      "text/plain": [
       "8"
      ]
     },
     "execution_count": 66,
     "metadata": {},
     "output_type": "execute_result"
    }
   ],
   "source": [
    "len(r_weights[2].compute()[1])"
   ]
  },
  {
   "cell_type": "code",
   "execution_count": 50,
   "id": "b4c72314",
   "metadata": {},
   "outputs": [],
   "source": [
    "r_weights = r_weights.persist()\n",
    "wait(r_weights)\n",
    "a=1\n",
    "\n"
   ]
  },
  {
   "cell_type": "code",
   "execution_count": 52,
   "id": "9256b783",
   "metadata": {},
   "outputs": [
    {
     "ename": "TypeError",
     "evalue": "object of type 'float' has no len()",
     "output_type": "error",
     "traceback": [
      "\u001b[0;31m---------------------------------------------------------------------------\u001b[0m",
      "\u001b[0;31mTypeError\u001b[0m                                 Traceback (most recent call last)",
      "Input \u001b[0;32mIn [52]\u001b[0m, in \u001b[0;36m<cell line: 1>\u001b[0;34m()\u001b[0m\n\u001b[0;32m----> 1\u001b[0m \u001b[43mr_weights\u001b[49m\u001b[38;5;241;43m.\u001b[39;49m\u001b[43mcompute\u001b[49m\u001b[43m(\u001b[49m\u001b[43m)\u001b[49m\n",
      "File \u001b[0;32m/opt/conda/lib/python3.9/site-packages/dask/base.py:290\u001b[0m, in \u001b[0;36mDaskMethodsMixin.compute\u001b[0;34m(self, **kwargs)\u001b[0m\n\u001b[1;32m    266\u001b[0m \u001b[38;5;28;01mdef\u001b[39;00m \u001b[38;5;21mcompute\u001b[39m(\u001b[38;5;28mself\u001b[39m, \u001b[38;5;241m*\u001b[39m\u001b[38;5;241m*\u001b[39mkwargs):\n\u001b[1;32m    267\u001b[0m     \u001b[38;5;124;03m\"\"\"Compute this dask collection\u001b[39;00m\n\u001b[1;32m    268\u001b[0m \n\u001b[1;32m    269\u001b[0m \u001b[38;5;124;03m    This turns a lazy Dask collection into its in-memory equivalent.\u001b[39;00m\n\u001b[0;32m   (...)\u001b[0m\n\u001b[1;32m    288\u001b[0m \u001b[38;5;124;03m    dask.base.compute\u001b[39;00m\n\u001b[1;32m    289\u001b[0m \u001b[38;5;124;03m    \"\"\"\u001b[39;00m\n\u001b[0;32m--> 290\u001b[0m     (result,) \u001b[38;5;241m=\u001b[39m \u001b[43mcompute\u001b[49m\u001b[43m(\u001b[49m\u001b[38;5;28;43mself\u001b[39;49m\u001b[43m,\u001b[49m\u001b[43m \u001b[49m\u001b[43mtraverse\u001b[49m\u001b[38;5;241;43m=\u001b[39;49m\u001b[38;5;28;43;01mFalse\u001b[39;49;00m\u001b[43m,\u001b[49m\u001b[43m \u001b[49m\u001b[38;5;241;43m*\u001b[39;49m\u001b[38;5;241;43m*\u001b[39;49m\u001b[43mkwargs\u001b[49m\u001b[43m)\u001b[49m\n\u001b[1;32m    291\u001b[0m     \u001b[38;5;28;01mreturn\u001b[39;00m result\n",
      "File \u001b[0;32m/opt/conda/lib/python3.9/site-packages/dask/base.py:573\u001b[0m, in \u001b[0;36mcompute\u001b[0;34m(traverse, optimize_graph, scheduler, get, *args, **kwargs)\u001b[0m\n\u001b[1;32m    570\u001b[0m     keys\u001b[38;5;241m.\u001b[39mappend(x\u001b[38;5;241m.\u001b[39m__dask_keys__())\n\u001b[1;32m    571\u001b[0m     postcomputes\u001b[38;5;241m.\u001b[39mappend(x\u001b[38;5;241m.\u001b[39m__dask_postcompute__())\n\u001b[0;32m--> 573\u001b[0m results \u001b[38;5;241m=\u001b[39m \u001b[43mschedule\u001b[49m\u001b[43m(\u001b[49m\u001b[43mdsk\u001b[49m\u001b[43m,\u001b[49m\u001b[43m \u001b[49m\u001b[43mkeys\u001b[49m\u001b[43m,\u001b[49m\u001b[43m \u001b[49m\u001b[38;5;241;43m*\u001b[39;49m\u001b[38;5;241;43m*\u001b[39;49m\u001b[43mkwargs\u001b[49m\u001b[43m)\u001b[49m\n\u001b[1;32m    574\u001b[0m \u001b[38;5;28;01mreturn\u001b[39;00m repack([f(r, \u001b[38;5;241m*\u001b[39ma) \u001b[38;5;28;01mfor\u001b[39;00m r, (f, a) \u001b[38;5;129;01min\u001b[39;00m \u001b[38;5;28mzip\u001b[39m(results, postcomputes)])\n",
      "File \u001b[0;32m/opt/conda/lib/python3.9/site-packages/distributed/client.py:3010\u001b[0m, in \u001b[0;36mClient.get\u001b[0;34m(self, dsk, keys, workers, allow_other_workers, resources, sync, asynchronous, direct, retries, priority, fifo_timeout, actors, **kwargs)\u001b[0m\n\u001b[1;32m   3008\u001b[0m         should_rejoin \u001b[38;5;241m=\u001b[39m \u001b[38;5;28;01mFalse\u001b[39;00m\n\u001b[1;32m   3009\u001b[0m \u001b[38;5;28;01mtry\u001b[39;00m:\n\u001b[0;32m-> 3010\u001b[0m     results \u001b[38;5;241m=\u001b[39m \u001b[38;5;28;43mself\u001b[39;49m\u001b[38;5;241;43m.\u001b[39;49m\u001b[43mgather\u001b[49m\u001b[43m(\u001b[49m\u001b[43mpacked\u001b[49m\u001b[43m,\u001b[49m\u001b[43m \u001b[49m\u001b[43masynchronous\u001b[49m\u001b[38;5;241;43m=\u001b[39;49m\u001b[43masynchronous\u001b[49m\u001b[43m,\u001b[49m\u001b[43m \u001b[49m\u001b[43mdirect\u001b[49m\u001b[38;5;241;43m=\u001b[39;49m\u001b[43mdirect\u001b[49m\u001b[43m)\u001b[49m\n\u001b[1;32m   3011\u001b[0m \u001b[38;5;28;01mfinally\u001b[39;00m:\n\u001b[1;32m   3012\u001b[0m     \u001b[38;5;28;01mfor\u001b[39;00m f \u001b[38;5;129;01min\u001b[39;00m futures\u001b[38;5;241m.\u001b[39mvalues():\n",
      "File \u001b[0;32m/opt/conda/lib/python3.9/site-packages/distributed/client.py:2162\u001b[0m, in \u001b[0;36mClient.gather\u001b[0;34m(self, futures, errors, direct, asynchronous)\u001b[0m\n\u001b[1;32m   2160\u001b[0m \u001b[38;5;28;01melse\u001b[39;00m:\n\u001b[1;32m   2161\u001b[0m     local_worker \u001b[38;5;241m=\u001b[39m \u001b[38;5;28;01mNone\u001b[39;00m\n\u001b[0;32m-> 2162\u001b[0m \u001b[38;5;28;01mreturn\u001b[39;00m \u001b[38;5;28;43mself\u001b[39;49m\u001b[38;5;241;43m.\u001b[39;49m\u001b[43msync\u001b[49m\u001b[43m(\u001b[49m\n\u001b[1;32m   2163\u001b[0m \u001b[43m    \u001b[49m\u001b[38;5;28;43mself\u001b[39;49m\u001b[38;5;241;43m.\u001b[39;49m\u001b[43m_gather\u001b[49m\u001b[43m,\u001b[49m\n\u001b[1;32m   2164\u001b[0m \u001b[43m    \u001b[49m\u001b[43mfutures\u001b[49m\u001b[43m,\u001b[49m\n\u001b[1;32m   2165\u001b[0m \u001b[43m    \u001b[49m\u001b[43merrors\u001b[49m\u001b[38;5;241;43m=\u001b[39;49m\u001b[43merrors\u001b[49m\u001b[43m,\u001b[49m\n\u001b[1;32m   2166\u001b[0m \u001b[43m    \u001b[49m\u001b[43mdirect\u001b[49m\u001b[38;5;241;43m=\u001b[39;49m\u001b[43mdirect\u001b[49m\u001b[43m,\u001b[49m\n\u001b[1;32m   2167\u001b[0m \u001b[43m    \u001b[49m\u001b[43mlocal_worker\u001b[49m\u001b[38;5;241;43m=\u001b[39;49m\u001b[43mlocal_worker\u001b[49m\u001b[43m,\u001b[49m\n\u001b[1;32m   2168\u001b[0m \u001b[43m    \u001b[49m\u001b[43masynchronous\u001b[49m\u001b[38;5;241;43m=\u001b[39;49m\u001b[43masynchronous\u001b[49m\u001b[43m,\u001b[49m\n\u001b[1;32m   2169\u001b[0m \u001b[43m\u001b[49m\u001b[43m)\u001b[49m\n",
      "File \u001b[0;32m/opt/conda/lib/python3.9/site-packages/distributed/utils.py:311\u001b[0m, in \u001b[0;36mSyncMethodMixin.sync\u001b[0;34m(self, func, asynchronous, callback_timeout, *args, **kwargs)\u001b[0m\n\u001b[1;32m    309\u001b[0m     \u001b[38;5;28;01mreturn\u001b[39;00m future\n\u001b[1;32m    310\u001b[0m \u001b[38;5;28;01melse\u001b[39;00m:\n\u001b[0;32m--> 311\u001b[0m     \u001b[38;5;28;01mreturn\u001b[39;00m \u001b[43msync\u001b[49m\u001b[43m(\u001b[49m\n\u001b[1;32m    312\u001b[0m \u001b[43m        \u001b[49m\u001b[38;5;28;43mself\u001b[39;49m\u001b[38;5;241;43m.\u001b[39;49m\u001b[43mloop\u001b[49m\u001b[43m,\u001b[49m\u001b[43m \u001b[49m\u001b[43mfunc\u001b[49m\u001b[43m,\u001b[49m\u001b[43m \u001b[49m\u001b[38;5;241;43m*\u001b[39;49m\u001b[43margs\u001b[49m\u001b[43m,\u001b[49m\u001b[43m \u001b[49m\u001b[43mcallback_timeout\u001b[49m\u001b[38;5;241;43m=\u001b[39;49m\u001b[43mcallback_timeout\u001b[49m\u001b[43m,\u001b[49m\u001b[43m \u001b[49m\u001b[38;5;241;43m*\u001b[39;49m\u001b[38;5;241;43m*\u001b[39;49m\u001b[43mkwargs\u001b[49m\n\u001b[1;32m    313\u001b[0m \u001b[43m    \u001b[49m\u001b[43m)\u001b[49m\n",
      "File \u001b[0;32m/opt/conda/lib/python3.9/site-packages/distributed/utils.py:378\u001b[0m, in \u001b[0;36msync\u001b[0;34m(loop, func, callback_timeout, *args, **kwargs)\u001b[0m\n\u001b[1;32m    376\u001b[0m \u001b[38;5;28;01mif\u001b[39;00m error:\n\u001b[1;32m    377\u001b[0m     typ, exc, tb \u001b[38;5;241m=\u001b[39m error\n\u001b[0;32m--> 378\u001b[0m     \u001b[38;5;28;01mraise\u001b[39;00m exc\u001b[38;5;241m.\u001b[39mwith_traceback(tb)\n\u001b[1;32m    379\u001b[0m \u001b[38;5;28;01melse\u001b[39;00m:\n\u001b[1;32m    380\u001b[0m     \u001b[38;5;28;01mreturn\u001b[39;00m result\n",
      "File \u001b[0;32m/opt/conda/lib/python3.9/site-packages/distributed/utils.py:351\u001b[0m, in \u001b[0;36msync.<locals>.f\u001b[0;34m()\u001b[0m\n\u001b[1;32m    349\u001b[0m         future \u001b[38;5;241m=\u001b[39m asyncio\u001b[38;5;241m.\u001b[39mwait_for(future, callback_timeout)\n\u001b[1;32m    350\u001b[0m     future \u001b[38;5;241m=\u001b[39m asyncio\u001b[38;5;241m.\u001b[39mensure_future(future)\n\u001b[0;32m--> 351\u001b[0m     result \u001b[38;5;241m=\u001b[39m \u001b[38;5;28;01myield\u001b[39;00m future\n\u001b[1;32m    352\u001b[0m \u001b[38;5;28;01mexcept\u001b[39;00m \u001b[38;5;167;01mException\u001b[39;00m:\n\u001b[1;32m    353\u001b[0m     error \u001b[38;5;241m=\u001b[39m sys\u001b[38;5;241m.\u001b[39mexc_info()\n",
      "File \u001b[0;32m/opt/conda/lib/python3.9/site-packages/tornado/gen.py:762\u001b[0m, in \u001b[0;36mRunner.run\u001b[0;34m(self)\u001b[0m\n\u001b[1;32m    759\u001b[0m exc_info \u001b[38;5;241m=\u001b[39m \u001b[38;5;28;01mNone\u001b[39;00m\n\u001b[1;32m    761\u001b[0m \u001b[38;5;28;01mtry\u001b[39;00m:\n\u001b[0;32m--> 762\u001b[0m     value \u001b[38;5;241m=\u001b[39m \u001b[43mfuture\u001b[49m\u001b[38;5;241;43m.\u001b[39;49m\u001b[43mresult\u001b[49m\u001b[43m(\u001b[49m\u001b[43m)\u001b[49m\n\u001b[1;32m    763\u001b[0m \u001b[38;5;28;01mexcept\u001b[39;00m \u001b[38;5;167;01mException\u001b[39;00m:\n\u001b[1;32m    764\u001b[0m     exc_info \u001b[38;5;241m=\u001b[39m sys\u001b[38;5;241m.\u001b[39mexc_info()\n",
      "File \u001b[0;32m/opt/conda/lib/python3.9/site-packages/distributed/client.py:2025\u001b[0m, in \u001b[0;36mClient._gather\u001b[0;34m(self, futures, errors, direct, local_worker)\u001b[0m\n\u001b[1;32m   2023\u001b[0m         exc \u001b[38;5;241m=\u001b[39m CancelledError(key)\n\u001b[1;32m   2024\u001b[0m     \u001b[38;5;28;01melse\u001b[39;00m:\n\u001b[0;32m-> 2025\u001b[0m         \u001b[38;5;28;01mraise\u001b[39;00m exception\u001b[38;5;241m.\u001b[39mwith_traceback(traceback)\n\u001b[1;32m   2026\u001b[0m     \u001b[38;5;28;01mraise\u001b[39;00m exc\n\u001b[1;32m   2027\u001b[0m \u001b[38;5;28;01mif\u001b[39;00m errors \u001b[38;5;241m==\u001b[39m \u001b[38;5;124m\"\u001b[39m\u001b[38;5;124mskip\u001b[39m\u001b[38;5;124m\"\u001b[39m:\n",
      "File \u001b[0;32m/opt/conda/lib/python3.9/site-packages/dask/bag/core.py:1845\u001b[0m, in \u001b[0;36mreify\u001b[0;34m()\u001b[0m\n\u001b[1;32m   1843\u001b[0m \u001b[38;5;28;01mif\u001b[39;00m \u001b[38;5;28misinstance\u001b[39m(seq, Iterator):\n\u001b[1;32m   1844\u001b[0m     seq \u001b[38;5;241m=\u001b[39m \u001b[38;5;28mlist\u001b[39m(seq)\n\u001b[0;32m-> 1845\u001b[0m \u001b[38;5;28;01mif\u001b[39;00m \u001b[38;5;28mlen\u001b[39m(seq) \u001b[38;5;129;01mand\u001b[39;00m \u001b[38;5;28misinstance\u001b[39m(seq[\u001b[38;5;241m0\u001b[39m], Iterator):\n\u001b[1;32m   1846\u001b[0m     seq \u001b[38;5;241m=\u001b[39m \u001b[38;5;28mlist\u001b[39m(\u001b[38;5;28mmap\u001b[39m(\u001b[38;5;28mlist\u001b[39m, seq))\n\u001b[1;32m   1847\u001b[0m \u001b[38;5;28;01mreturn\u001b[39;00m seq\n",
      "\u001b[0;31mTypeError\u001b[0m: object of type 'float' has no len()"
     ]
    }
   ],
   "source": [
    "r_weights.compute()"
   ]
  },
  {
   "cell_type": "code",
   "execution_count": 47,
   "id": "3aafb19e",
   "metadata": {},
   "outputs": [
    {
     "name": "stdout",
     "output_type": "stream",
     "text": [
      "3\n"
     ]
    }
   ],
   "source": [
    "print(len(r_weights.compute()[0]))"
   ]
  },
  {
   "cell_type": "code",
   "execution_count": null,
   "id": "e4c1e895",
   "metadata": {},
   "outputs": [],
   "source": []
  },
  {
   "cell_type": "code",
   "execution_count": 42,
   "id": "73a286aa",
   "metadata": {},
   "outputs": [],
   "source": [
    "ans = db.map(evalu,r_weights,vd_small,vl_small)"
   ]
  },
  {
   "cell_type": "code",
   "execution_count": 46,
   "id": "bd0605bf",
   "metadata": {},
   "outputs": [
    {
     "name": "stdout",
     "output_type": "stream",
     "text": [
      "3\n"
     ]
    }
   ],
   "source": [
    "print(len(ans.compute()[0]))"
   ]
  },
  {
   "cell_type": "code",
   "execution_count": 95,
   "id": "70542da9",
   "metadata": {},
   "outputs": [
    {
     "data": {
      "text/plain": [
       "1.0"
      ]
     },
     "execution_count": 95,
     "metadata": {},
     "output_type": "execute_result"
    }
   ],
   "source": [
    "ans[0][1]"
   ]
  },
  {
   "cell_type": "code",
   "execution_count": 31,
   "id": "21a1ac07",
   "metadata": {},
   "outputs": [
    {
     "data": {
      "text/plain": [
       "(800,)"
      ]
     },
     "execution_count": 31,
     "metadata": {},
     "output_type": "execute_result"
    }
   ],
   "source": [
    "np.shape(v_labels)"
   ]
  },
  {
   "cell_type": "code",
   "execution_count": null,
   "id": "7f34c28f",
   "metadata": {},
   "outputs": [],
   "source": [
    "db.map(lambda(print()))"
   ]
  },
  {
   "cell_type": "code",
   "execution_count": null,
   "id": "648c1d4d",
   "metadata": {},
   "outputs": [],
   "source": []
  },
  {
   "cell_type": "code",
   "execution_count": 70,
   "id": "a4aca3b1",
   "metadata": {},
   "outputs": [
    {
     "ename": "TypeError",
     "evalue": "'Bag' object is not subscriptable",
     "output_type": "error",
     "traceback": [
      "\u001b[0;31m---------------------------------------------------------------------------\u001b[0m",
      "\u001b[0;31mTypeError\u001b[0m                                 Traceback (most recent call last)",
      "Input \u001b[0;32mIn [70]\u001b[0m, in \u001b[0;36m<cell line: 1>\u001b[0;34m()\u001b[0m\n\u001b[0;32m----> 1\u001b[0m db\u001b[38;5;241m.\u001b[39mmap(\u001b[38;5;28;01mlambda\u001b[39;00m x: \u001b[38;5;28mprint\u001b[39m(x), \u001b[43mr_weights\u001b[49m\u001b[43m[\u001b[49m\u001b[38;5;241;43m0\u001b[39;49m\u001b[43m]\u001b[49m)\u001b[38;5;241m.\u001b[39mcompute()\n",
      "\u001b[0;31mTypeError\u001b[0m: 'Bag' object is not subscriptable"
     ]
    }
   ],
   "source": [
    "db.map(lambda x: print(x), r_weights).compute()"
   ]
  },
  {
   "cell_type": "code",
   "execution_count": 67,
   "id": "18b9aefb",
   "metadata": {},
   "outputs": [],
   "source": [
    "shp = r_weights.map(evalu,(ds,ls))"
   ]
  },
  {
   "cell_type": "code",
   "execution_count": 68,
   "id": "c6c8b1f4",
   "metadata": {},
   "outputs": [
    {
     "ename": "TypeError",
     "evalue": "evalu() missing 1 required positional argument: 'v_labels'",
     "output_type": "error",
     "traceback": [
      "\u001b[0;31m---------------------------------------------------------------------------\u001b[0m",
      "\u001b[0;31mTypeError\u001b[0m                                 Traceback (most recent call last)",
      "Input \u001b[0;32mIn [68]\u001b[0m, in \u001b[0;36m<cell line: 1>\u001b[0;34m()\u001b[0m\n\u001b[0;32m----> 1\u001b[0m \u001b[43mshp\u001b[49m\u001b[38;5;241;43m.\u001b[39;49m\u001b[43mcompute\u001b[49m\u001b[43m(\u001b[49m\u001b[43m)\u001b[49m\n",
      "File \u001b[0;32m/opt/conda/lib/python3.9/site-packages/dask/base.py:290\u001b[0m, in \u001b[0;36mDaskMethodsMixin.compute\u001b[0;34m(self, **kwargs)\u001b[0m\n\u001b[1;32m    266\u001b[0m \u001b[38;5;28;01mdef\u001b[39;00m \u001b[38;5;21mcompute\u001b[39m(\u001b[38;5;28mself\u001b[39m, \u001b[38;5;241m*\u001b[39m\u001b[38;5;241m*\u001b[39mkwargs):\n\u001b[1;32m    267\u001b[0m     \u001b[38;5;124;03m\"\"\"Compute this dask collection\u001b[39;00m\n\u001b[1;32m    268\u001b[0m \n\u001b[1;32m    269\u001b[0m \u001b[38;5;124;03m    This turns a lazy Dask collection into its in-memory equivalent.\u001b[39;00m\n\u001b[0;32m   (...)\u001b[0m\n\u001b[1;32m    288\u001b[0m \u001b[38;5;124;03m    dask.base.compute\u001b[39;00m\n\u001b[1;32m    289\u001b[0m \u001b[38;5;124;03m    \"\"\"\u001b[39;00m\n\u001b[0;32m--> 290\u001b[0m     (result,) \u001b[38;5;241m=\u001b[39m \u001b[43mcompute\u001b[49m\u001b[43m(\u001b[49m\u001b[38;5;28;43mself\u001b[39;49m\u001b[43m,\u001b[49m\u001b[43m \u001b[49m\u001b[43mtraverse\u001b[49m\u001b[38;5;241;43m=\u001b[39;49m\u001b[38;5;28;43;01mFalse\u001b[39;49;00m\u001b[43m,\u001b[49m\u001b[43m \u001b[49m\u001b[38;5;241;43m*\u001b[39;49m\u001b[38;5;241;43m*\u001b[39;49m\u001b[43mkwargs\u001b[49m\u001b[43m)\u001b[49m\n\u001b[1;32m    291\u001b[0m     \u001b[38;5;28;01mreturn\u001b[39;00m result\n",
      "File \u001b[0;32m/opt/conda/lib/python3.9/site-packages/dask/base.py:573\u001b[0m, in \u001b[0;36mcompute\u001b[0;34m(traverse, optimize_graph, scheduler, get, *args, **kwargs)\u001b[0m\n\u001b[1;32m    570\u001b[0m     keys\u001b[38;5;241m.\u001b[39mappend(x\u001b[38;5;241m.\u001b[39m__dask_keys__())\n\u001b[1;32m    571\u001b[0m     postcomputes\u001b[38;5;241m.\u001b[39mappend(x\u001b[38;5;241m.\u001b[39m__dask_postcompute__())\n\u001b[0;32m--> 573\u001b[0m results \u001b[38;5;241m=\u001b[39m \u001b[43mschedule\u001b[49m\u001b[43m(\u001b[49m\u001b[43mdsk\u001b[49m\u001b[43m,\u001b[49m\u001b[43m \u001b[49m\u001b[43mkeys\u001b[49m\u001b[43m,\u001b[49m\u001b[43m \u001b[49m\u001b[38;5;241;43m*\u001b[39;49m\u001b[38;5;241;43m*\u001b[39;49m\u001b[43mkwargs\u001b[49m\u001b[43m)\u001b[49m\n\u001b[1;32m    574\u001b[0m \u001b[38;5;28;01mreturn\u001b[39;00m repack([f(r, \u001b[38;5;241m*\u001b[39ma) \u001b[38;5;28;01mfor\u001b[39;00m r, (f, a) \u001b[38;5;129;01min\u001b[39;00m \u001b[38;5;28mzip\u001b[39m(results, postcomputes)])\n",
      "File \u001b[0;32m/opt/conda/lib/python3.9/site-packages/distributed/client.py:3010\u001b[0m, in \u001b[0;36mClient.get\u001b[0;34m(self, dsk, keys, workers, allow_other_workers, resources, sync, asynchronous, direct, retries, priority, fifo_timeout, actors, **kwargs)\u001b[0m\n\u001b[1;32m   3008\u001b[0m         should_rejoin \u001b[38;5;241m=\u001b[39m \u001b[38;5;28;01mFalse\u001b[39;00m\n\u001b[1;32m   3009\u001b[0m \u001b[38;5;28;01mtry\u001b[39;00m:\n\u001b[0;32m-> 3010\u001b[0m     results \u001b[38;5;241m=\u001b[39m \u001b[38;5;28;43mself\u001b[39;49m\u001b[38;5;241;43m.\u001b[39;49m\u001b[43mgather\u001b[49m\u001b[43m(\u001b[49m\u001b[43mpacked\u001b[49m\u001b[43m,\u001b[49m\u001b[43m \u001b[49m\u001b[43masynchronous\u001b[49m\u001b[38;5;241;43m=\u001b[39;49m\u001b[43masynchronous\u001b[49m\u001b[43m,\u001b[49m\u001b[43m \u001b[49m\u001b[43mdirect\u001b[49m\u001b[38;5;241;43m=\u001b[39;49m\u001b[43mdirect\u001b[49m\u001b[43m)\u001b[49m\n\u001b[1;32m   3011\u001b[0m \u001b[38;5;28;01mfinally\u001b[39;00m:\n\u001b[1;32m   3012\u001b[0m     \u001b[38;5;28;01mfor\u001b[39;00m f \u001b[38;5;129;01min\u001b[39;00m futures\u001b[38;5;241m.\u001b[39mvalues():\n",
      "File \u001b[0;32m/opt/conda/lib/python3.9/site-packages/distributed/client.py:2162\u001b[0m, in \u001b[0;36mClient.gather\u001b[0;34m(self, futures, errors, direct, asynchronous)\u001b[0m\n\u001b[1;32m   2160\u001b[0m \u001b[38;5;28;01melse\u001b[39;00m:\n\u001b[1;32m   2161\u001b[0m     local_worker \u001b[38;5;241m=\u001b[39m \u001b[38;5;28;01mNone\u001b[39;00m\n\u001b[0;32m-> 2162\u001b[0m \u001b[38;5;28;01mreturn\u001b[39;00m \u001b[38;5;28;43mself\u001b[39;49m\u001b[38;5;241;43m.\u001b[39;49m\u001b[43msync\u001b[49m\u001b[43m(\u001b[49m\n\u001b[1;32m   2163\u001b[0m \u001b[43m    \u001b[49m\u001b[38;5;28;43mself\u001b[39;49m\u001b[38;5;241;43m.\u001b[39;49m\u001b[43m_gather\u001b[49m\u001b[43m,\u001b[49m\n\u001b[1;32m   2164\u001b[0m \u001b[43m    \u001b[49m\u001b[43mfutures\u001b[49m\u001b[43m,\u001b[49m\n\u001b[1;32m   2165\u001b[0m \u001b[43m    \u001b[49m\u001b[43merrors\u001b[49m\u001b[38;5;241;43m=\u001b[39;49m\u001b[43merrors\u001b[49m\u001b[43m,\u001b[49m\n\u001b[1;32m   2166\u001b[0m \u001b[43m    \u001b[49m\u001b[43mdirect\u001b[49m\u001b[38;5;241;43m=\u001b[39;49m\u001b[43mdirect\u001b[49m\u001b[43m,\u001b[49m\n\u001b[1;32m   2167\u001b[0m \u001b[43m    \u001b[49m\u001b[43mlocal_worker\u001b[49m\u001b[38;5;241;43m=\u001b[39;49m\u001b[43mlocal_worker\u001b[49m\u001b[43m,\u001b[49m\n\u001b[1;32m   2168\u001b[0m \u001b[43m    \u001b[49m\u001b[43masynchronous\u001b[49m\u001b[38;5;241;43m=\u001b[39;49m\u001b[43masynchronous\u001b[49m\u001b[43m,\u001b[49m\n\u001b[1;32m   2169\u001b[0m \u001b[43m\u001b[49m\u001b[43m)\u001b[49m\n",
      "File \u001b[0;32m/opt/conda/lib/python3.9/site-packages/distributed/utils.py:311\u001b[0m, in \u001b[0;36mSyncMethodMixin.sync\u001b[0;34m(self, func, asynchronous, callback_timeout, *args, **kwargs)\u001b[0m\n\u001b[1;32m    309\u001b[0m     \u001b[38;5;28;01mreturn\u001b[39;00m future\n\u001b[1;32m    310\u001b[0m \u001b[38;5;28;01melse\u001b[39;00m:\n\u001b[0;32m--> 311\u001b[0m     \u001b[38;5;28;01mreturn\u001b[39;00m \u001b[43msync\u001b[49m\u001b[43m(\u001b[49m\n\u001b[1;32m    312\u001b[0m \u001b[43m        \u001b[49m\u001b[38;5;28;43mself\u001b[39;49m\u001b[38;5;241;43m.\u001b[39;49m\u001b[43mloop\u001b[49m\u001b[43m,\u001b[49m\u001b[43m \u001b[49m\u001b[43mfunc\u001b[49m\u001b[43m,\u001b[49m\u001b[43m \u001b[49m\u001b[38;5;241;43m*\u001b[39;49m\u001b[43margs\u001b[49m\u001b[43m,\u001b[49m\u001b[43m \u001b[49m\u001b[43mcallback_timeout\u001b[49m\u001b[38;5;241;43m=\u001b[39;49m\u001b[43mcallback_timeout\u001b[49m\u001b[43m,\u001b[49m\u001b[43m \u001b[49m\u001b[38;5;241;43m*\u001b[39;49m\u001b[38;5;241;43m*\u001b[39;49m\u001b[43mkwargs\u001b[49m\n\u001b[1;32m    313\u001b[0m \u001b[43m    \u001b[49m\u001b[43m)\u001b[49m\n",
      "File \u001b[0;32m/opt/conda/lib/python3.9/site-packages/distributed/utils.py:378\u001b[0m, in \u001b[0;36msync\u001b[0;34m(loop, func, callback_timeout, *args, **kwargs)\u001b[0m\n\u001b[1;32m    376\u001b[0m \u001b[38;5;28;01mif\u001b[39;00m error:\n\u001b[1;32m    377\u001b[0m     typ, exc, tb \u001b[38;5;241m=\u001b[39m error\n\u001b[0;32m--> 378\u001b[0m     \u001b[38;5;28;01mraise\u001b[39;00m exc\u001b[38;5;241m.\u001b[39mwith_traceback(tb)\n\u001b[1;32m    379\u001b[0m \u001b[38;5;28;01melse\u001b[39;00m:\n\u001b[1;32m    380\u001b[0m     \u001b[38;5;28;01mreturn\u001b[39;00m result\n",
      "File \u001b[0;32m/opt/conda/lib/python3.9/site-packages/distributed/utils.py:351\u001b[0m, in \u001b[0;36msync.<locals>.f\u001b[0;34m()\u001b[0m\n\u001b[1;32m    349\u001b[0m         future \u001b[38;5;241m=\u001b[39m asyncio\u001b[38;5;241m.\u001b[39mwait_for(future, callback_timeout)\n\u001b[1;32m    350\u001b[0m     future \u001b[38;5;241m=\u001b[39m asyncio\u001b[38;5;241m.\u001b[39mensure_future(future)\n\u001b[0;32m--> 351\u001b[0m     result \u001b[38;5;241m=\u001b[39m \u001b[38;5;28;01myield\u001b[39;00m future\n\u001b[1;32m    352\u001b[0m \u001b[38;5;28;01mexcept\u001b[39;00m \u001b[38;5;167;01mException\u001b[39;00m:\n\u001b[1;32m    353\u001b[0m     error \u001b[38;5;241m=\u001b[39m sys\u001b[38;5;241m.\u001b[39mexc_info()\n",
      "File \u001b[0;32m/opt/conda/lib/python3.9/site-packages/tornado/gen.py:762\u001b[0m, in \u001b[0;36mRunner.run\u001b[0;34m(self)\u001b[0m\n\u001b[1;32m    759\u001b[0m exc_info \u001b[38;5;241m=\u001b[39m \u001b[38;5;28;01mNone\u001b[39;00m\n\u001b[1;32m    761\u001b[0m \u001b[38;5;28;01mtry\u001b[39;00m:\n\u001b[0;32m--> 762\u001b[0m     value \u001b[38;5;241m=\u001b[39m \u001b[43mfuture\u001b[49m\u001b[38;5;241;43m.\u001b[39;49m\u001b[43mresult\u001b[49m\u001b[43m(\u001b[49m\u001b[43m)\u001b[49m\n\u001b[1;32m    763\u001b[0m \u001b[38;5;28;01mexcept\u001b[39;00m \u001b[38;5;167;01mException\u001b[39;00m:\n\u001b[1;32m    764\u001b[0m     exc_info \u001b[38;5;241m=\u001b[39m sys\u001b[38;5;241m.\u001b[39mexc_info()\n",
      "File \u001b[0;32m/opt/conda/lib/python3.9/site-packages/distributed/client.py:2025\u001b[0m, in \u001b[0;36mClient._gather\u001b[0;34m(self, futures, errors, direct, local_worker)\u001b[0m\n\u001b[1;32m   2023\u001b[0m         exc \u001b[38;5;241m=\u001b[39m CancelledError(key)\n\u001b[1;32m   2024\u001b[0m     \u001b[38;5;28;01melse\u001b[39;00m:\n\u001b[0;32m-> 2025\u001b[0m         \u001b[38;5;28;01mraise\u001b[39;00m exception\u001b[38;5;241m.\u001b[39mwith_traceback(traceback)\n\u001b[1;32m   2026\u001b[0m     \u001b[38;5;28;01mraise\u001b[39;00m exc\n\u001b[1;32m   2027\u001b[0m \u001b[38;5;28;01mif\u001b[39;00m errors \u001b[38;5;241m==\u001b[39m \u001b[38;5;124m\"\u001b[39m\u001b[38;5;124mskip\u001b[39m\u001b[38;5;124m\"\u001b[39m:\n",
      "File \u001b[0;32m/opt/conda/lib/python3.9/site-packages/dask/bag/core.py:1844\u001b[0m, in \u001b[0;36mreify\u001b[0;34m()\u001b[0m\n\u001b[1;32m   1842\u001b[0m \u001b[38;5;28;01mdef\u001b[39;00m \u001b[38;5;21mreify\u001b[39m(seq):\n\u001b[1;32m   1843\u001b[0m     \u001b[38;5;28;01mif\u001b[39;00m \u001b[38;5;28misinstance\u001b[39m(seq, Iterator):\n\u001b[0;32m-> 1844\u001b[0m         seq \u001b[38;5;241m=\u001b[39m \u001b[38;5;28mlist\u001b[39m(seq)\n\u001b[1;32m   1845\u001b[0m     \u001b[38;5;28;01mif\u001b[39;00m \u001b[38;5;28mlen\u001b[39m(seq) \u001b[38;5;129;01mand\u001b[39;00m \u001b[38;5;28misinstance\u001b[39m(seq[\u001b[38;5;241m0\u001b[39m], Iterator):\n\u001b[1;32m   1846\u001b[0m         seq \u001b[38;5;241m=\u001b[39m \u001b[38;5;28mlist\u001b[39m(\u001b[38;5;28mmap\u001b[39m(\u001b[38;5;28mlist\u001b[39m, seq))\n",
      "File \u001b[0;32m/opt/conda/lib/python3.9/site-packages/dask/bag/core.py:2032\u001b[0m, in \u001b[0;36m__next__\u001b[0;34m()\u001b[0m\n\u001b[1;32m   2030\u001b[0m     kwargs \u001b[38;5;241m=\u001b[39m \u001b[38;5;28mdict\u001b[39m(\u001b[38;5;28mzip\u001b[39m(\u001b[38;5;28mself\u001b[39m\u001b[38;5;241m.\u001b[39mkwarg_keys, vals[\u001b[38;5;241m-\u001b[39m\u001b[38;5;28mself\u001b[39m\u001b[38;5;241m.\u001b[39mnkws :]))\n\u001b[1;32m   2031\u001b[0m     \u001b[38;5;28;01mreturn\u001b[39;00m \u001b[38;5;28mself\u001b[39m\u001b[38;5;241m.\u001b[39mf(\u001b[38;5;241m*\u001b[39margs, \u001b[38;5;241m*\u001b[39m\u001b[38;5;241m*\u001b[39mkwargs)\n\u001b[0;32m-> 2032\u001b[0m \u001b[38;5;28;01mreturn\u001b[39;00m \u001b[38;5;28mself\u001b[39m\u001b[38;5;241m.\u001b[39mf(\u001b[38;5;241m*\u001b[39mvals)\n",
      "\u001b[0;31mTypeError\u001b[0m: evalu() missing 1 required positional argument: 'v_labels'"
     ]
    }
   ],
   "source": [
    "shp.compute()"
   ]
  },
  {
   "cell_type": "code",
   "execution_count": 17,
   "id": "ef6819ee",
   "metadata": {},
   "outputs": [
    {
     "data": {
      "text/plain": [
       "Delayed('result-ca148f49-a64a-41ba-9b85-0d867987c255')"
      ]
     },
     "execution_count": 17,
     "metadata": {},
     "output_type": "execute_result"
    }
   ],
   "source": [
    "res.result().result()"
   ]
  },
  {
   "cell_type": "code",
   "execution_count": 169,
   "id": "5a2d804b",
   "metadata": {},
   "outputs": [
    {
     "ename": "TypeError",
     "evalue": "object of type 'type' has no len()",
     "output_type": "error",
     "traceback": [
      "\u001b[0;31m---------------------------------------------------------------------------\u001b[0m",
      "\u001b[0;31mTypeError\u001b[0m                                 Traceback (most recent call last)",
      "Input \u001b[0;32mIn [169]\u001b[0m, in \u001b[0;36m<cell line: 1>\u001b[0;34m()\u001b[0m\n\u001b[0;32m----> 1\u001b[0m \u001b[38;5;28;43mlen\u001b[39;49m\u001b[43m(\u001b[49m\u001b[43mans\u001b[49m\u001b[43m)\u001b[49m\n",
      "\u001b[0;31mTypeError\u001b[0m: object of type 'type' has no len()"
     ]
    }
   ],
   "source": [
    "len(ans)"
   ]
  },
  {
   "cell_type": "code",
   "execution_count": null,
   "id": "37870212",
   "metadata": {},
   "outputs": [],
   "source": []
  },
  {
   "cell_type": "code",
   "execution_count": 144,
   "id": "c08b210a",
   "metadata": {},
   "outputs": [
    {
     "name": "stdout",
     "output_type": "stream",
     "text": [
      "(800, 198, 198, 3)\n"
     ]
    }
   ],
   "source": [
    "print(np.shape(v_data))"
   ]
  },
  {
   "cell_type": "code",
   "execution_count": 131,
   "id": "b5c34664",
   "metadata": {},
   "outputs": [
    {
     "data": {
      "text/plain": [
       "(10, 198, 198, 3)"
      ]
     },
     "execution_count": 131,
     "metadata": {},
     "output_type": "execute_result"
    }
   ],
   "source": [
    "np.shape(v_data_futures[3].compute()[0])"
   ]
  },
  {
   "cell_type": "code",
   "execution_count": 52,
   "id": "a39fb69f",
   "metadata": {},
   "outputs": [],
   "source": [
    "test = v_data.partitions[0]\n",
    "test = test.compute()\n",
    "tdata, tlables = extractData(test)"
   ]
  },
  {
   "cell_type": "code",
   "execution_count": 56,
   "id": "52ffdbe1",
   "metadata": {},
   "outputs": [
    {
     "data": {
      "text/plain": [
       "array([1., 1., 1., 1., 0., 0., 0., 0.])"
      ]
     },
     "execution_count": 56,
     "metadata": {},
     "output_type": "execute_result"
    }
   ],
   "source": [
    "tlables"
   ]
  },
  {
   "cell_type": "code",
   "execution_count": 85,
   "id": "245a077d",
   "metadata": {},
   "outputs": [
    {
     "name": "stdout",
     "output_type": "stream",
     "text": [
      "<class 'numpy.ndarray'>\n"
     ]
    }
   ],
   "source": [
    "a = v_data.head()\n",
    "print(type(a['v_data'][0]))"
   ]
  },
  {
   "cell_type": "code",
   "execution_count": 75,
   "id": "81b0b1bd",
   "metadata": {},
   "outputs": [
    {
     "name": "stdout",
     "output_type": "stream",
     "text": [
      "100\n"
     ]
    }
   ],
   "source": [
    "print(len(v_data))"
   ]
  },
  {
   "cell_type": "markdown",
   "id": "3f0f6e02",
   "metadata": {},
   "source": [
    "# Image Processing Performance\n",
    "\n",
    "In the next cells the following tests will be deployed:\n",
    "\n",
    "- Partition Test, monitoring the processing time at different numbers of partitions\n",
    "\n",
    "- Memory Graphs, Showing the memory usage of a worker at "
   ]
  },
  {
   "cell_type": "code",
   "execution_count": null,
   "id": "7865e34f",
   "metadata": {},
   "outputs": [],
   "source": []
  },
  {
   "cell_type": "markdown",
   "id": "9e162da1",
   "metadata": {},
   "source": [
    "# adding images to the dataframe for approach 2"
   ]
  },
  {
   "cell_type": "code",
   "execution_count": null,
   "id": "f5364a8f",
   "metadata": {},
   "outputs": [],
   "source": []
  },
  {
   "cell_type": "code",
   "execution_count": null,
   "id": "a85d3c94",
   "metadata": {},
   "outputs": [],
   "source": []
  },
  {
   "cell_type": "code",
   "execution_count": 19,
   "id": "366f5485",
   "metadata": {},
   "outputs": [
    {
     "data": {
      "text/html": [
       "<div><strong>Dask DataFrame Structure:</strong></div>\n",
       "<div>\n",
       "<style scoped>\n",
       "    .dataframe tbody tr th:only-of-type {\n",
       "        vertical-align: middle;\n",
       "    }\n",
       "\n",
       "    .dataframe tbody tr th {\n",
       "        vertical-align: top;\n",
       "    }\n",
       "\n",
       "    .dataframe thead th {\n",
       "        text-align: right;\n",
       "    }\n",
       "</style>\n",
       "<table border=\"1\" class=\"dataframe\">\n",
       "  <thead>\n",
       "    <tr style=\"text-align: right;\">\n",
       "      <th></th>\n",
       "      <th>box_topleft_x</th>\n",
       "      <th>box_topleft_y</th>\n",
       "      <th>box_width</th>\n",
       "      <th>box_height</th>\n",
       "      <th>image_width</th>\n",
       "      <th>image_height</th>\n",
       "      <th>box_bottomright_x</th>\n",
       "      <th>box_bottomright_y</th>\n",
       "      <th>max_box_dim</th>\n",
       "      <th>file_path</th>\n",
       "      <th>face_number</th>\n",
       "      <th>image</th>\n",
       "    </tr>\n",
       "    <tr>\n",
       "      <th>npartitions=1000</th>\n",
       "      <th></th>\n",
       "      <th></th>\n",
       "      <th></th>\n",
       "      <th></th>\n",
       "      <th></th>\n",
       "      <th></th>\n",
       "      <th></th>\n",
       "      <th></th>\n",
       "      <th></th>\n",
       "      <th></th>\n",
       "      <th></th>\n",
       "      <th></th>\n",
       "    </tr>\n",
       "  </thead>\n",
       "  <tbody>\n",
       "    <tr>\n",
       "      <th></th>\n",
       "      <td>int64</td>\n",
       "      <td>int64</td>\n",
       "      <td>int64</td>\n",
       "      <td>int64</td>\n",
       "      <td>int64</td>\n",
       "      <td>int64</td>\n",
       "      <td>int64</td>\n",
       "      <td>int64</td>\n",
       "      <td>int64</td>\n",
       "      <td>object</td>\n",
       "      <td>object</td>\n",
       "      <td>object</td>\n",
       "    </tr>\n",
       "    <tr>\n",
       "      <th></th>\n",
       "      <td>...</td>\n",
       "      <td>...</td>\n",
       "      <td>...</td>\n",
       "      <td>...</td>\n",
       "      <td>...</td>\n",
       "      <td>...</td>\n",
       "      <td>...</td>\n",
       "      <td>...</td>\n",
       "      <td>...</td>\n",
       "      <td>...</td>\n",
       "      <td>...</td>\n",
       "      <td>...</td>\n",
       "    </tr>\n",
       "    <tr>\n",
       "      <th>...</th>\n",
       "      <td>...</td>\n",
       "      <td>...</td>\n",
       "      <td>...</td>\n",
       "      <td>...</td>\n",
       "      <td>...</td>\n",
       "      <td>...</td>\n",
       "      <td>...</td>\n",
       "      <td>...</td>\n",
       "      <td>...</td>\n",
       "      <td>...</td>\n",
       "      <td>...</td>\n",
       "      <td>...</td>\n",
       "    </tr>\n",
       "    <tr>\n",
       "      <th></th>\n",
       "      <td>...</td>\n",
       "      <td>...</td>\n",
       "      <td>...</td>\n",
       "      <td>...</td>\n",
       "      <td>...</td>\n",
       "      <td>...</td>\n",
       "      <td>...</td>\n",
       "      <td>...</td>\n",
       "      <td>...</td>\n",
       "      <td>...</td>\n",
       "      <td>...</td>\n",
       "      <td>...</td>\n",
       "    </tr>\n",
       "    <tr>\n",
       "      <th></th>\n",
       "      <td>...</td>\n",
       "      <td>...</td>\n",
       "      <td>...</td>\n",
       "      <td>...</td>\n",
       "      <td>...</td>\n",
       "      <td>...</td>\n",
       "      <td>...</td>\n",
       "      <td>...</td>\n",
       "      <td>...</td>\n",
       "      <td>...</td>\n",
       "      <td>...</td>\n",
       "      <td>...</td>\n",
       "    </tr>\n",
       "  </tbody>\n",
       "</table>\n",
       "</div>\n",
       "<div>Dask Name: images, 2017 tasks</div>"
      ],
      "text/plain": [
       "Dask DataFrame Structure:\n",
       "                 box_topleft_x box_topleft_y box_width box_height image_width image_height box_bottomright_x box_bottomright_y max_box_dim file_path face_number   image\n",
       "npartitions=1000                                                                                                                                                        \n",
       "                         int64         int64     int64      int64       int64        int64             int64             int64       int64    object      object  object\n",
       "                           ...           ...       ...        ...         ...          ...               ...               ...         ...       ...         ...     ...\n",
       "...                        ...           ...       ...        ...         ...          ...               ...               ...         ...       ...         ...     ...\n",
       "                           ...           ...       ...        ...         ...          ...               ...               ...         ...       ...         ...     ...\n",
       "                           ...           ...       ...        ...         ...          ...               ...               ...         ...       ...         ...     ...\n",
       "Dask Name: images, 2017 tasks"
      ]
     },
     "execution_count": 19,
     "metadata": {},
     "output_type": "execute_result"
    }
   ],
   "source": [
    "df = loadData()\n",
    "predf = preamble(df)\n",
    "# only about 2 images per partition to prevent workors dying from memory overload\n",
    "predf = predf.repartition(npartitions=1000)\n",
    "def images(partition):\n",
    "    def images2(row):\n",
    "        im = io.imread(row['file_path'])\n",
    "        return im\n",
    "    partition['image'] = partition.apply(images2, axis = 1)\n",
    "    return partition\n",
    "columns = list(predf.columns.values)\n",
    "columns.append('image')\n",
    "meta = pd.DataFrame(data = [[1,2,3,4,5,6,7,8,9,Path('/~'),'facenumber',np.zeros(1)]],columns=columns)\n",
    "imgdf = predf.map_partitions(images, meta = meta)\n",
    "imgdf"
   ]
  },
  {
   "cell_type": "markdown",
   "id": "7f510553",
   "metadata": {},
   "source": [
    "# Getting the face images approach 2\n",
    "\n",
    "The only difference with the first approach is that now the images are in the dataframe with the face data. And so already loaded."
   ]
  },
  {
   "cell_type": "code",
   "execution_count": 17,
   "id": "1ca645a9",
   "metadata": {},
   "outputs": [],
   "source": [
    "def partitionTest3(fun,df, partitions,itterations=1):\n",
    "    times = []\n",
    "    for i in partitions:\n",
    "        print('Number of Partitions: ',i)\n",
    "        df = df.repartition(npartitions = i)\n",
    "        print('1')\n",
    "        df = df.persist()\n",
    "        print('2')\n",
    "        times2 = []\n",
    "        for j in range(itterations):\n",
    "            t1 = time.perf_counter()\n",
    "            workers = client.scheduler_info()['workers'].keys()\n",
    "            print(workers)\n",
    "            print('2.5')\n",
    "            fun(df)\n",
    "            print('3')\n",
    "            t2 = time.perf_counter()\n",
    "            times2.append(t2-t1)\n",
    "        times.append(np.mean(times2))\n",
    "    plt.plot(partitions,times)\n",
    "    plt.xlabel('number of partitions')\n",
    "    plt.ylabel('time taken in seconds')\n",
    "    return seq, times"
   ]
  },
  {
   "cell_type": "code",
   "execution_count": null,
   "id": "c0594d0a",
   "metadata": {},
   "outputs": [],
   "source": [
    "from skimage import util\n",
    "def getFace(partition):\n",
    "    def getFace2(image_info):\n",
    "        im = image_info['image'] #******************************* only line thats different\n",
    "        im = im[:,:,:3]# remove fourth channel if it exists\n",
    "        var = locals()\n",
    "        y = image_info['box_topleft_y']\n",
    "        x = image_info['box_topleft_x']\n",
    "        dim = {'box_width':image_info['box_width'],'box_height':image_info['box_height']}\n",
    "        max_dim_key = max(dim, key = dim.get)\n",
    "        max_dim = image_info['max_box_dim']\n",
    "        dif = np.abs(image_info['box_width'] - image_info['box_height'])\n",
    "        half_dif = int(dif/2)\n",
    "    \n",
    "        if max_dim_key == 'box_width':\n",
    "            new_top = y-half_dif\n",
    "            new_bottom = new_top + max_dim\n",
    "            pad_width = 0\n",
    "            if(new_top < 0):\n",
    "                pad_width = -new_top\n",
    "                new_top = 0\n",
    "            if(new_bottom > image_info['image_height']):\n",
    "                pad_width = new_bottom - image_info['image_height']\n",
    "                new_bottom = image_info['image_height']\n",
    "        \n",
    "            im = np.pad(im, pad_width = [(pad_width,pad_width),(pad_width,pad_width),(0,0)], mode = 'reflect')\n",
    "            face = im[ new_top : new_bottom, x : x+max_dim, :]\n",
    "            \n",
    "        if max_dim_key == 'box_height':\n",
    "            new_left = x-half_dif\n",
    "            new_right = new_left + max_dim\n",
    "            pad_width = 0\n",
    "            if(new_left < 0):\n",
    "                pad_width = -new_left\n",
    "                new_left = 0\n",
    "            if(new_left > image_info['image_width']):\n",
    "                pad_width = new_left - image_info['image_width']\n",
    "                new_left = image_info['image_width']\n",
    "            im = np.pad(im, pad_width = [(pad_width,pad_width),(pad_width,pad_width),(0,0)], mode = 'reflect')\n",
    "            face = im[ y : y+max_dim, new_left : new_right, :]\n",
    "        path = Path('/opt','workspace','data','Faces3','face_'+image_info['face_number']+'.jpg')\n",
    "        face = transform.resize(face,(198,198,3))\n",
    "        face = util.img_as_ubyte(face)\n",
    "        io.imsave(path,face)\n",
    "    partition.apply(getFace2, axis = 1)\n",
    "\n",
    "def face(facedf):\n",
    "    meta = pd.DataFrame()\n",
    "    facedf.map_partitions(getFace, meta = meta).compute()\n",
    "\n",
    "partitions = [1000,500,250,125,50,6]\n",
    "partitionTest3(face,imgdf,partitions)\n",
    "plt.title('Getting Face Images Partition Test, approach 2')"
   ]
  },
  {
   "cell_type": "markdown",
   "id": "e6c09cad",
   "metadata": {},
   "source": [
    "# Scalling up\n",
    "\n",
    "One great advantage of using a distributed system is the ability to process data of size beyond the ram limit of the resources. To test our code for multiple data sizes the data will be duplicated.\n",
    "\n",
    "Ram Limit of system:\n",
    "6 workers of 2GB each (1.9 for now)\n",
    "\n"
   ]
  },
  {
   "cell_type": "code",
   "execution_count": 33,
   "id": "9517b69b",
   "metadata": {},
   "outputs": [],
   "source": [
    "#load all images into dataframe with large number of partitions\n",
    "# save it to a parquet file\n",
    "# predict the ram usage of the file\n",
    "# use this to guess ideal partitions\n",
    "# load it with lower numbers of partitions unitll it wont load without killing workers, this is min partitions\n",
    "# do partition analysis from min and above\n",
    "\n",
    "# The ram usage of the file tells us how many duplications will take us to the ram limit. \n",
    "# plot number of duplications as a function of ram size, make many parque files with different numbers of duplications"
   ]
  },
  {
   "cell_type": "code",
   "execution_count": 34,
   "id": "cc6a90c9",
   "metadata": {},
   "outputs": [],
   "source": [
    "from dask.distributed import wait, progress\n",
    "from time import sleep\n",
    "#client.rebalance([predf.persist(), workers])\n",
    "def minPartTest(df,start=1000,stop=1,step=100):\n",
    "    print('Testing min partitions')\n",
    "    for npart in reversed(range(stop,start,step)):\n",
    "        print('testing: ',npart)\n",
    "        df = df.repartition(npartitions=npart)\n",
    "        df = df.persist() \n",
    "        wait\n",
    "        workers = client.scheduler_info()['workers'].keys()\n",
    "        if len(workers)==0:\n",
    "            print('Broken at npartitions:',npart)\n",
    "            break\n",
    "    return df\n",
    "        "
   ]
  },
  {
   "cell_type": "code",
   "execution_count": 35,
   "id": "0cc3b01b",
   "metadata": {},
   "outputs": [
    {
     "name": "stdout",
     "output_type": "stream",
     "text": [
      "Testing min partitions\n",
      "testing:  901\n",
      "testing:  801\n",
      "testing:  701\n",
      "testing:  601\n",
      "testing:  501\n",
      "testing:  401\n",
      "testing:  301\n",
      "testing:  201\n",
      "testing:  101\n",
      "testing:  1\n"
     ]
    }
   ],
   "source": [
    "predf = minPartTest(predf)"
   ]
  },
  {
   "cell_type": "markdown",
   "id": "1109fb4d",
   "metadata": {},
   "source": [
    "# dump"
   ]
  },
  {
   "cell_type": "code",
   "execution_count": 10,
   "id": "8c79d307",
   "metadata": {},
   "outputs": [
    {
     "name": "stdout",
     "output_type": "stream",
     "text": [
      "6\n"
     ]
    }
   ],
   "source": [
    "workers = client.scheduler_info()['workers'].keys()\n",
    "print(len(workers))\n",
    "#client.processing(workers)"
   ]
  },
  {
   "cell_type": "code",
   "execution_count": 12,
   "id": "a4291c8f",
   "metadata": {},
   "outputs": [
    {
     "data": {
      "text/plain": [
       "<function distributed.client.wait(fs, timeout=None, return_when='ALL_COMPLETED')>"
      ]
     },
     "execution_count": 12,
     "metadata": {},
     "output_type": "execute_result"
    }
   ],
   "source": [
    "# min number of partitions finder.\n",
    "# does reshuffling help\n",
    "\n",
    "from dask.distributed import wait, progress\n",
    "wait"
   ]
  },
  {
   "cell_type": "code",
   "execution_count": null,
   "id": "3f765628",
   "metadata": {},
   "outputs": [],
   "source": [
    "from skimage import io, transform\n",
    "import numpy as np\n",
    "from pathlib import Path\n",
    "\n",
    "for i in range(1,2104):\n",
    "        if (i%100==0): print(i)\n",
    "        try: im = io.imread(Path('data/noFaces2/Image_'+str(i)+'.jpg'))    \n",
    "        except:\n",
    "            try: im = io.imread(Path('data/images/Image_'+str(i)+'.jpeg'))\n",
    "            except:\n",
    "                try: im = io.imread(Path('data/images/Image_'+str(i)+'.png'))\n",
    "                except:\n",
    "                    try: io.imread(Path('data/images/Image_'+str(i)+'.JPG'))\n",
    "                    except:\n",
    "                        print('File Not Found')\n",
    "                        continue\n",
    "        scale_factor = np.shape(im)[0]/500\n",
    "        im = transform.rescale(im, scale= scale_factor,multichannel=True)\n",
    "        io.imsave(Path('data/faces198/face_'+str(i)),arr = im)"
   ]
  },
  {
   "cell_type": "code",
   "execution_count": null,
   "id": "c4705adf",
   "metadata": {},
   "outputs": [],
   "source": [
    "# rescale im\n",
    "from skimage import io, transform\n",
    "for i in range(1,2104):\n",
    "    scale_factor = box_mode/500\n",
    "    im = io.imread('data/faces/face_'+str(i))\n",
    "    im = transform.rescale(im, scale= scale_factor)\n",
    "    io.imsave('data/faces198/face_'+str(i),im)"
   ]
  },
  {
   "cell_type": "code",
   "execution_count": 72,
   "id": "66bf0adb",
   "metadata": {},
   "outputs": [
    {
     "name": "stdout",
     "output_type": "stream",
     "text": [
      "8 14\n",
      "510045\n"
     ]
    }
   ],
   "source": [
    "import re\n",
    "txt = 'fgdfghhh510045dfgdf'\n",
    "a = re.search('[0-9]+',txt)\n",
    "print(a.start(),a.end())\n",
    "print(txt[8:14])"
   ]
  },
  {
   "cell_type": "code",
   "execution_count": null,
   "id": "1f5cebbf",
   "metadata": {},
   "outputs": [],
   "source": [
    "#adding the images as numpy arrays\n",
    "predf = predf.repartition(npartitions=500)\n",
    "def images(partition):\n",
    "    def images2(row):\n",
    "        im = io.imread(row['file_path'])\n",
    "        return im\n",
    "    partition['image'] = partition.apply(images2, axis = 1)\n",
    "    return partition\n",
    "meta = pd.DataFrame(data = )\n",
    "meta['image'] = [np.zeros((2,2))]\n",
    "predf = predf.map_partitions(images, meta = meta)"
   ]
  },
  {
   "cell_type": "code",
   "execution_count": null,
   "id": "3840edf3",
   "metadata": {},
   "outputs": [],
   "source": [
    "# Preamble Performance Report\n",
    "from dask.distributed import performance_report\n",
    "\n",
    "with performance_report(filename=\"preamble-report2.html\"):\n",
    "    df = loadData()\n",
    "    df = preamble(df, persist=True)\n",
    "    \n",
    "from IPython.display import HTML\n",
    "HTML(filename=\"preamble-report.html\")"
   ]
  },
  {
   "cell_type": "code",
   "execution_count": null,
   "id": "63623e9b",
   "metadata": {},
   "outputs": [],
   "source": [
    "from dask.distributed import performance_report\n",
    "\n",
    "with performance_report(filename=\"image_col.html\"):\n",
    "    predf.persist()\n",
    "from IPython.display import HTML\n",
    "HTML(filename=\"preamble-report.html\")\n"
   ]
  },
  {
   "cell_type": "code",
   "execution_count": 101,
   "id": "27d822b9",
   "metadata": {},
   "outputs": [
    {
     "data": {
      "text/plain": [
       "[299, 300, 300, 300, 300, 300]"
      ]
     },
     "execution_count": 101,
     "metadata": {},
     "output_type": "execute_result"
    }
   ],
   "source": [
    "def split(x, n):\n",
    "    ans = []\n",
    "    # If we cannot split the\n",
    "    # number into exactly 'N' parts\n",
    "    if(x < n):\n",
    "        print(-1)\n",
    " \n",
    "    # If x % n == 0 then the minimum\n",
    "    # difference is 0 and all\n",
    "    # numbers are x / n\n",
    "    elif (x % n == 0):\n",
    "        for i in range(n):\n",
    "            ans.append(x//n)\n",
    "    else:\n",
    "        # upto n-(x % n) the values\n",
    "        # will be x / n\n",
    "        # after that the values\n",
    "        # will be x / n + 1\n",
    "        zp = n - (x % n)\n",
    "        pp = x//n\n",
    "        for i in range(n):\n",
    "            if(i>= zp):\n",
    "                ans.append(pp + 1)\n",
    "            else:\n",
    "                ans.append(pp)\n",
    "    return ans\n",
    "\n",
    "n_workers = len(client.scheduler_info()['workers'].keys())\n",
    "npar = nofacedf.npartitions\n",
    "indexes = np.cumsum([0]+split(npar,n_workers))\n",
    "print(indexes)\n",
    "#split the dataframe into a list dask dataframes. One dataframe for each worker\n",
    "batches = []\n",
    "for i in range(n_workers): \n",
    "    batch = nofacedf.partitions[indexes[i]:indexes[i+1]]\n",
    "    batches.append(batch)\n",
    "\n",
    "def train(pdf,weights,nepochs,cnn):\n",
    "    faces = pdf['faces_img'].tolist()\n",
    "    faces = [i[0] for i in faces]\n",
    "    faces = np.array(faces)\n",
    "    labelsF = np.ones(len(faces))    \n",
    "    nofaces = pdf['noFaces_img'].tolist()\n",
    "    nofaces = [i[0] for i in nofaces]\n",
    "    nofaces = np.array(nofaces)\n",
    "    labelsNF = np.zeros(len(nofaces))\n",
    "    data = np.concatenate(faces,nofaces, axis = 0)\n",
    "    lables = np.concatenate(labelsF,labelsNF)\n",
    "    cnn.fit(data,lables,shuffle=True)\n",
    "    \n",
    "partitions = nofacedf.to_delayed()\n",
    "\n",
    "    \n",
    "# for batch in batches:\n",
    "#     batch.map_partitions(train,(weights,nepochs,cnn))\n",
    "    "
   ]
  },
  {
   "cell_type": "code",
   "execution_count": 122,
   "id": "c8c00ad9",
   "metadata": {},
   "outputs": [
    {
     "name": "stdout",
     "output_type": "stream",
     "text": [
      "[   0  166  332  499  666  833 1000]\n",
      "<class 'list'>\n"
     ]
    },
    {
     "data": {
      "text/plain": [
       "[Delayed('list-14d34ef8-0e74-4ae3-92e7-78d1a378b17c'),\n",
       " Delayed('list-bcfd6b96-b817-4692-93e8-a526ba665fc7'),\n",
       " Delayed('list-af25efc2-d156-417e-8c2a-aef3e1640f68'),\n",
       " Delayed('list-f6b4d41a-0207-4a4a-b2bf-031b72c670f2'),\n",
       " Delayed('list-43ef0d0b-deb2-444f-b220-5e7f83aab5d5'),\n",
       " Delayed('list-5500b535-5de1-42c0-8732-3647320a4358')]"
      ]
     },
     "execution_count": 122,
     "metadata": {},
     "output_type": "execute_result"
    }
   ],
   "source": [
    "import dask\n",
    "n_workers = len(client.scheduler_info()['workers'].keys())\n",
    "npar = nofacedf.npartitions\n",
    "indexes = np.cumsum([0]+split(npar,n_workers))\n",
    "print(indexes)\n",
    "#split the dataframe into a list dask dataframes. One dataframe for each worker\n",
    "batches = []\n",
    "\n",
    "\n",
    "for i in range(n_workers): \n",
    "    batch = dask.delayed(partitions[indexes[i]:indexes[i+1]])\n",
    "    batches.append(batch)\n",
    "\n",
    "def extractData(pdf):\n",
    "    faces = pdf['faces_img'].tolist()\n",
    "    faces = [i[0] for i in faces]\n",
    "    faces = np.array(faces)\n",
    "    labelsF = np.ones(len(faces))    \n",
    "    nofaces = pdf['noFaces_img'].tolist()\n",
    "    nofaces = [i[0] for i in nofaces]\n",
    "    nofaces = np.array(nofaces)\n",
    "    labelsNF = np.zeros(len(nofaces))\n",
    "    data = np.concatenate(faces,nofaces, axis = 0)\n",
    "    lables = np.concatenate(labelsF,labelsNF)\n",
    "    return data, lables\n",
    "    \n",
    "def train(batch, cnn, data_val, lables_val, weights):\n",
    "    for partition in batch:\n",
    "        data, lables = extractData(part)\n",
    "        cnn = cnn(weights)#sudo\n",
    "        fit = cnn.fit(data,lables)\n",
    "        weights = fit.weights()\n",
    "    acc = fit.validate(data_val, lables_val)\n",
    "    return {'accuracy':acc, 'weights':weights}\n",
    "\n",
    "\n",
    "results = [dask.delayed(train)(batch,cnn,data_val,lables_val,initialweights)\n",
    "                  for batch in batches]\n",
    "\n",
    "results = [dask.delayed(train)(batch,cnn,data_val,lables_val,results['weights'])\n",
    "                  for batch in batches]"
   ]
  }
 ],
 "metadata": {
  "kernelspec": {
   "display_name": "Python 3 (ipykernel)",
   "language": "python",
   "name": "python3"
  },
  "language_info": {
   "codemirror_mode": {
    "name": "ipython",
    "version": 3
   },
   "file_extension": ".py",
   "mimetype": "text/x-python",
   "name": "python",
   "nbconvert_exporter": "python",
   "pygments_lexer": "ipython3",
   "version": "3.9.5"
  }
 },
 "nbformat": 4,
 "nbformat_minor": 5
}
